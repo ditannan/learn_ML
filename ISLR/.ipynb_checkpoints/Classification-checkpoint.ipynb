{
 "cells": [
  {
   "cell_type": "markdown",
   "metadata": {},
   "source": [
    "# 线性判别分析（linear discriminant analysis, LDA）\n",
    "- 在类别区分度高时，logistic回归模型参数不够稳定，这点在线性判别不存在\n",
    "- 如果样本量n比较小，而且在每一类响应分类中预测变量X近似服从正态分布，那么线性判别比logistic回归更稳定\n",
    "- 响应变量分类多于两类时，线性判别分析应用更普遍"
   ]
  },
  {
   "cell_type": "markdown",
   "metadata": {},
   "source": [
    "## 运用贝叶斯定理进行分类\n",
    "$K\\geq2$，设$\\pi_k$为一个随机选择的观测来自第k类的**先验**概率，$f_k(X)\\equiv Pr(X=x|Y=k)$表示第k类观测的X的**密度函数**。则**贝叶斯定理**表述为：\n",
    "$$p_k(X)=Pr(Y=k|X=x)=\\frac{\\pi_kf_k(x)}{\\sum_{i=1}^K\\pi_if_i(x)}\\tag{4-1}$$\n",
    "$p_k(X)$为$X=x$的观测属于第k类的后验概率。"
   ]
  },
  {
   "cell_type": "markdown",
   "metadata": {},
   "source": [
    "## p=1的线性判别分析\n",
    "分类器名称中的“线性”一词是由于判别函数中$\\delta_k(x)$是x的线性函数。LDA分类器的结果是建立在每一类中的观测都来自于一个均值不同、方差相同（均为$\\sigma^2$）的正态分布假设上的。将这些参数估计带入（4-1）贝叶斯分类器中得到LDA分类器。"
   ]
  },
  {
   "cell_type": "markdown",
   "metadata": {},
   "source": [
    "## 二次判别分析（quadratic discriminant analysis, QDA）\n",
    "QDA分类器也是假设每一类观测服从一个高斯分布，把参数估计带入贝叶斯分类器中，与LDA不同的是，QDA假设每一类观测都有自己的协方差矩阵。$\\delta_k(x)$是x的二次函数。"
   ]
  },
  {
   "cell_type": "markdown",
   "metadata": {},
   "source": [
    "LDA没有QDA分类器光滑，于是拥有更低的方差，该模型有改善预测效果的潜力。一般而言，如果训练观测数据相对较少，LDA比QDA更好，降低模型的方差很有必要。如果训练集很大，QDA更好，因为K类的协方差矩阵形同的假设很难成立。"
   ]
  },
  {
   "cell_type": "markdown",
   "metadata": {},
   "source": [
    "## 分类方法比较\n",
    "- LDA假设观测服从每一类协方差矩阵都相同的高斯分布，当其成立时，LDA比logistic能提供更好的结果，反之亦然。\n",
    "- KNN是非参数方法，当决策边界高度非线性时，用该方法优于LDA和logistic，但无法得到系数估计。\n",
    "- QDA是非参数KNN和线性LDA、logistic之间的一个折中方法。"
   ]
  },
  {
   "cell_type": "markdown",
   "metadata": {},
   "source": [
    "# R操作"
   ]
  },
  {
   "cell_type": "code",
   "execution_count": 2,
   "metadata": {},
   "outputs": [],
   "source": [
    "# loading packages\n",
    "library(\"ISLR\")\n",
    "library(\"magrittr\")\n",
    "library(\"dplyr\")\n",
    "library(\"ggplot2\")"
   ]
  },
  {
   "cell_type": "markdown",
   "metadata": {},
   "source": [
    "## 股票市场数据\n",
    "Direction为股票涨跌"
   ]
  },
  {
   "cell_type": "code",
   "execution_count": 3,
   "metadata": {},
   "outputs": [
    {
     "name": "stdout",
     "output_type": "stream",
     "text": [
      "Observations: 1,250\n",
      "Variables: 9\n",
      "$ Year      <dbl> 2001, 2001, 2001, 2001, 2001, 2001, 2001, 2001, 2001, 200...\n",
      "$ Lag1      <dbl> 0.381, 0.959, 1.032, -0.623, 0.614, 0.213, 1.392, -0.403,...\n",
      "$ Lag2      <dbl> -0.192, 0.381, 0.959, 1.032, -0.623, 0.614, 0.213, 1.392,...\n",
      "$ Lag3      <dbl> -2.624, -0.192, 0.381, 0.959, 1.032, -0.623, 0.614, 0.213...\n",
      "$ Lag4      <dbl> -1.055, -2.624, -0.192, 0.381, 0.959, 1.032, -0.623, 0.61...\n",
      "$ Lag5      <dbl> 5.010, -1.055, -2.624, -0.192, 0.381, 0.959, 1.032, -0.62...\n",
      "$ Volume    <dbl> 1.1913, 1.2965, 1.4112, 1.2760, 1.2057, 1.3491, 1.4450, 1...\n",
      "$ Today     <dbl> 0.959, 1.032, -0.623, 0.614, 0.213, 1.392, -0.403, 0.027,...\n",
      "$ Direction <fctr> Up, Up, Down, Up, Up, Up, Down, Up, Up, Up, Down, Down, ...\n"
     ]
    }
   ],
   "source": [
    "glimpse(Smarket)"
   ]
  },
  {
   "cell_type": "markdown",
   "metadata": {},
   "source": [
    "### 拟合logistic回归模型"
   ]
  },
  {
   "cell_type": "code",
   "execution_count": 4,
   "metadata": {},
   "outputs": [
    {
     "data": {
      "text/plain": [
       "\n",
       "Call:\n",
       "glm(formula = Direction ~ Lag1 + Lag2 + Lag3 + Lag4 + Lag5 + \n",
       "    Volume, family = binomial)\n",
       "\n",
       "Deviance Residuals: \n",
       "   Min      1Q  Median      3Q     Max  \n",
       "-1.446  -1.203   1.065   1.145   1.326  \n",
       "\n",
       "Coefficients:\n",
       "             Estimate Std. Error z value Pr(>|z|)\n",
       "(Intercept) -0.126000   0.240736  -0.523    0.601\n",
       "Lag1        -0.073074   0.050167  -1.457    0.145\n",
       "Lag2        -0.042301   0.050086  -0.845    0.398\n",
       "Lag3         0.011085   0.049939   0.222    0.824\n",
       "Lag4         0.009359   0.049974   0.187    0.851\n",
       "Lag5         0.010313   0.049511   0.208    0.835\n",
       "Volume       0.135441   0.158360   0.855    0.392\n",
       "\n",
       "(Dispersion parameter for binomial family taken to be 1)\n",
       "\n",
       "    Null deviance: 1731.2  on 1249  degrees of freedom\n",
       "Residual deviance: 1727.6  on 1243  degrees of freedom\n",
       "AIC: 1741.6\n",
       "\n",
       "Number of Fisher Scoring iterations: 3\n"
      ]
     },
     "metadata": {},
     "output_type": "display_data"
    }
   ],
   "source": [
    "glm.logis <- Smarket %$% \n",
    "  glm(Direction ~ Lag1 + Lag2 + Lag3 + Lag4 + Lag5 + Volume, family = binomial)\n",
    "summary(glm.logis)"
   ]
  },
  {
   "cell_type": "markdown",
   "metadata": {},
   "source": [
    "#### 模型拟合系数"
   ]
  },
  {
   "cell_type": "code",
   "execution_count": 6,
   "metadata": {},
   "outputs": [
    {
     "data": {
      "text/html": [
       "<table>\n",
       "<thead><tr><th></th><th scope=col>Estimate</th><th scope=col>Std. Error</th><th scope=col>z value</th><th scope=col>Pr(&gt;|z|)</th></tr></thead>\n",
       "<tbody>\n",
       "\t<tr><th scope=row>(Intercept)</th><td>-0.126000257</td><td>0.24073574  </td><td>-0.5233966  </td><td>0.6006983   </td></tr>\n",
       "\t<tr><th scope=row>Lag1</th><td>-0.073073746</td><td>0.05016739  </td><td>-1.4565986  </td><td>0.1452272   </td></tr>\n",
       "\t<tr><th scope=row>Lag2</th><td>-0.042301344</td><td>0.05008605  </td><td>-0.8445733  </td><td>0.3983491   </td></tr>\n",
       "\t<tr><th scope=row>Lag3</th><td> 0.011085108</td><td>0.04993854  </td><td> 0.2219750  </td><td>0.8243333   </td></tr>\n",
       "\t<tr><th scope=row>Lag4</th><td> 0.009358938</td><td>0.04997413  </td><td> 0.1872757  </td><td>0.8514445   </td></tr>\n",
       "\t<tr><th scope=row>Lag5</th><td> 0.010313068</td><td>0.04951146  </td><td> 0.2082966  </td><td>0.8349974   </td></tr>\n",
       "\t<tr><th scope=row>Volume</th><td> 0.135440659</td><td>0.15835970  </td><td> 0.8552723  </td><td>0.3924004   </td></tr>\n",
       "</tbody>\n",
       "</table>\n"
      ],
      "text/latex": [
       "\\begin{tabular}{r|llll}\n",
       "  & Estimate & Std. Error & z value & Pr(>\\textbar{}z\\textbar{})\\\\\n",
       "\\hline\n",
       "\t(Intercept) & -0.126000257 & 0.24073574   & -0.5233966   & 0.6006983   \\\\\n",
       "\tLag1 & -0.073073746 & 0.05016739   & -1.4565986   & 0.1452272   \\\\\n",
       "\tLag2 & -0.042301344 & 0.05008605   & -0.8445733   & 0.3983491   \\\\\n",
       "\tLag3 &  0.011085108 & 0.04993854   &  0.2219750   & 0.8243333   \\\\\n",
       "\tLag4 &  0.009358938 & 0.04997413   &  0.1872757   & 0.8514445   \\\\\n",
       "\tLag5 &  0.010313068 & 0.04951146   &  0.2082966   & 0.8349974   \\\\\n",
       "\tVolume &  0.135440659 & 0.15835970   &  0.8552723   & 0.3924004   \\\\\n",
       "\\end{tabular}\n"
      ],
      "text/markdown": [
       "\n",
       "| <!--/--> | Estimate | Std. Error | z value | Pr(>|z|) | \n",
       "|---|---|---|---|---|---|---|\n",
       "| (Intercept) | -0.126000257 | 0.24073574   | -0.5233966   | 0.6006983    | \n",
       "| Lag1 | -0.073073746 | 0.05016739   | -1.4565986   | 0.1452272    | \n",
       "| Lag2 | -0.042301344 | 0.05008605   | -0.8445733   | 0.3983491    | \n",
       "| Lag3 |  0.011085108 | 0.04993854   |  0.2219750   | 0.8243333    | \n",
       "| Lag4 |  0.009358938 | 0.04997413   |  0.1872757   | 0.8514445    | \n",
       "| Lag5 |  0.010313068 | 0.04951146   |  0.2082966   | 0.8349974    | \n",
       "| Volume |  0.135440659 | 0.15835970   |  0.8552723   | 0.3924004    | \n",
       "\n",
       "\n"
      ],
      "text/plain": [
       "            Estimate     Std. Error z value    Pr(>|z|) \n",
       "(Intercept) -0.126000257 0.24073574 -0.5233966 0.6006983\n",
       "Lag1        -0.073073746 0.05016739 -1.4565986 0.1452272\n",
       "Lag2        -0.042301344 0.05008605 -0.8445733 0.3983491\n",
       "Lag3         0.011085108 0.04993854  0.2219750 0.8243333\n",
       "Lag4         0.009358938 0.04997413  0.1872757 0.8514445\n",
       "Lag5         0.010313068 0.04951146  0.2082966 0.8349974\n",
       "Volume       0.135440659 0.15835970  0.8552723 0.3924004"
      ]
     },
     "metadata": {},
     "output_type": "display_data"
    }
   ],
   "source": [
    "# 拟合模型系数\n",
    "summary(glm.logis)$coef"
   ]
  },
  {
   "cell_type": "markdown",
   "metadata": {},
   "source": [
    "##### 预测概率"
   ]
  },
  {
   "cell_type": "code",
   "execution_count": 8,
   "metadata": {
    "collapsed": true
   },
   "outputs": [],
   "source": [
    "glm.probs <- predict(glm.logis, type = 'response') ## 预测训练数据集"
   ]
  },
  {
   "cell_type": "markdown",
   "metadata": {},
   "source": [
    "##### 将预测概率转化为分类"
   ]
  },
  {
   "cell_type": "code",
   "execution_count": 9,
   "metadata": {},
   "outputs": [],
   "source": [
    "glm.pred <- rep('Down', nrow(Smarket))\n",
    "glm.pred[glm.probs > .5] <- 'Up'"
   ]
  },
  {
   "cell_type": "markdown",
   "metadata": {},
   "source": [
    "##### 预测情况"
   ]
  },
  {
   "cell_type": "code",
   "execution_count": 10,
   "metadata": {},
   "outputs": [
    {
     "data": {
      "text/plain": [
       "        \n",
       "glm.pred Down  Up\n",
       "    Down  145 141\n",
       "    Up    457 507"
      ]
     },
     "metadata": {},
     "output_type": "display_data"
    },
    {
     "data": {
      "text/html": [
       "0.5216"
      ],
      "text/latex": [
       "0.5216"
      ],
      "text/markdown": [
       "0.5216"
      ],
      "text/plain": [
       "[1] 0.5216"
      ]
     },
     "metadata": {},
     "output_type": "display_data"
    }
   ],
   "source": [
    "# 预测和原始比较\n",
    "table(glm.pred, Smarket$Direction)\n",
    "# 训练集预测率\n",
    "mean(glm.pred == Smarket$Direction)"
   ]
  },
  {
   "cell_type": "markdown",
   "metadata": {},
   "source": [
    "在训练集的正确率尚如此，在测试集还会差一些"
   ]
  },
  {
   "cell_type": "markdown",
   "metadata": {},
   "source": [
    "##### 将数据分为训练集和测试集，2005年之前为训练集"
   ]
  },
  {
   "cell_type": "code",
   "execution_count": 12,
   "metadata": {
    "collapsed": true
   },
   "outputs": [],
   "source": [
    "# 选择训练集和测试集\n",
    "train <- Smarket$Year < 2005\n",
    "Smarket.2005 <- Smarket[!train, ]\n",
    "Smarket.train <- Smarket[train, ]\n",
    "# 使用测试集拟合模型\n",
    "glm.logis.train <- Smarket.train %$%\n",
    "  glm(Direction ~ Lag1 + Lag2 + Lag3 + Lag4 + Lag5 + Volume, family = binomial)"
   ]
  },
  {
   "cell_type": "markdown",
   "metadata": {},
   "source": [
    "##### 预测情况"
   ]
  },
  {
   "cell_type": "code",
   "execution_count": 14,
   "metadata": {},
   "outputs": [
    {
     "data": {
      "text/plain": [
       "             \n",
       "glm.pred.test Down Up\n",
       "         Down   77 97\n",
       "         Up     34 44"
      ]
     },
     "metadata": {},
     "output_type": "display_data"
    },
    {
     "data": {
      "text/html": [
       "0.48015873015873"
      ],
      "text/latex": [
       "0.48015873015873"
      ],
      "text/markdown": [
       "0.48015873015873"
      ],
      "text/plain": [
       "[1] 0.4801587"
      ]
     },
     "metadata": {},
     "output_type": "display_data"
    }
   ],
   "source": [
    "# 预测测试集\n",
    "glm.probs.test <- predict(glm.logis.train, Smarket.2005, type = 'response')\n",
    "glm.pred.test <- rep('Down', nrow(Smarket.2005))\n",
    "glm.pred.test[glm.probs.test > .5] <- 'Up'\n",
    "table(glm.pred.test, Smarket.2005$Direction)\n",
    "# 测试集预测率\n",
    "mean(glm.pred.test == Smarket.2005$Direction)"
   ]
  },
  {
   "cell_type": "markdown",
   "metadata": {},
   "source": [
    "###### 看吧，在测试集预测还不如我随便猜呢……"
   ]
  },
  {
   "cell_type": "markdown",
   "metadata": {},
   "source": [
    "##### 选取p较小的两个变量进行预测"
   ]
  },
  {
   "cell_type": "code",
   "execution_count": 15,
   "metadata": {},
   "outputs": [
    {
     "data": {
      "text/html": [
       "0.55952380952381"
      ],
      "text/latex": [
       "0.55952380952381"
      ],
      "text/markdown": [
       "0.55952380952381"
      ],
      "text/plain": [
       "[1] 0.5595238"
      ]
     },
     "metadata": {},
     "output_type": "display_data"
    }
   ],
   "source": [
    "# 选取p值最小的两个变量进行预测\n",
    "glm.logis.two.train <- Smarket.train %$%\n",
    "  glm(Direction ~ Lag1 + Lag2, family = binomial)\n",
    "# 预测测试集\n",
    "glm.probs.two.test <- predict(glm.logis.two.train, Smarket.2005, type = 'response')\n",
    "glm.pred.two.test <- rep('Down', nrow(Smarket.2005))\n",
    "glm.pred.two.test[glm.probs.two.test > .5] <- 'Up'\n",
    "# 预测率\n",
    "mean(glm.pred.two.test == Smarket.2005$Direction)"
   ]
  },
  {
   "cell_type": "markdown",
   "metadata": {},
   "source": [
    "###### 恩，预测正确率有所提升……"
   ]
  },
  {
   "cell_type": "markdown",
   "metadata": {},
   "source": [
    "### LDA模型\n",
    "所使用函数为`MASS`包中的`lda`。"
   ]
  },
  {
   "cell_type": "code",
   "execution_count": 17,
   "metadata": {},
   "outputs": [
    {
     "data": {
      "text/plain": [
       "Call:\n",
       "lda(Direction ~ Lag1 + Lag2, subset = train)\n",
       "\n",
       "Prior probabilities of groups:\n",
       "    Down       Up \n",
       "0.491984 0.508016 \n",
       "\n",
       "Group means:\n",
       "            Lag1        Lag2\n",
       "Down  0.04279022  0.03389409\n",
       "Up   -0.03954635 -0.03132544\n",
       "\n",
       "Coefficients of linear discriminants:\n",
       "            LD1\n",
       "Lag1 -0.6420190\n",
       "Lag2 -0.5135293"
      ]
     },
     "metadata": {},
     "output_type": "display_data"
    }
   ],
   "source": [
    "# 载入函数\n",
    "lda <- MASS::lda\n",
    "# 拟合LDA\n",
    "lda.fit <- Smarket %$% \n",
    "  lda(Direction ~ Lag1 + Lag2, subset = train)\n",
    "lda.fit"
   ]
  },
  {
   "cell_type": "code",
   "execution_count": 18,
   "metadata": {},
   "outputs": [
    {
     "data": {
      "image/png": "[encoded data removed]",
      "text/plain": [
       "plot without title"
      ]
     },
     "metadata": {},
     "output_type": "display_data"
    }
   ],
   "source": [
    "# 线性判别图像\n",
    "plot(lda.fit)"
   ]
  },
  {
   "cell_type": "markdown",
   "metadata": {},
   "source": [
    "###### 预测情况"
   ]
  },
  {
   "cell_type": "code",
   "execution_count": 19,
   "metadata": {},
   "outputs": [
    {
     "name": "stdout",
     "output_type": "stream",
     "text": [
      "List of 3\n",
      " $ class    : Factor w/ 2 levels \"Down\",\"Up\": 2 2 2 2 2 2 2 2 2 2 ...\n",
      " $ posterior: num [1:252, 1:2] 0.49 0.479 0.467 0.474 0.493 ...\n",
      "  ..- attr(*, \"dimnames\")=List of 2\n",
      "  .. ..$ : chr [1:252] \"999\" \"1000\" \"1001\" \"1002\" ...\n",
      "  .. ..$ : chr [1:2] \"Down\" \"Up\"\n",
      " $ x        : num [1:252, 1] 0.0829 0.5911 1.1672 0.8334 -0.0379 ...\n",
      "  ..- attr(*, \"dimnames\")=List of 2\n",
      "  .. ..$ : chr [1:252] \"999\" \"1000\" \"1001\" \"1002\" ...\n",
      "  .. ..$ : chr \"LD1\"\n"
     ]
    },
    {
     "data": {
      "text/plain": [
       "      \n",
       "       Down  Up\n",
       "  Down   35  35\n",
       "  Up     76 106"
      ]
     },
     "metadata": {},
     "output_type": "display_data"
    },
    {
     "data": {
      "text/html": [
       "0.55952380952381"
      ],
      "text/latex": [
       "0.55952380952381"
      ],
      "text/markdown": [
       "0.55952380952381"
      ],
      "text/plain": [
       "[1] 0.5595238"
      ]
     },
     "metadata": {},
     "output_type": "display_data"
    }
   ],
   "source": [
    "lda.pred <- predict(lda.fit, Smarket.2005)\n",
    "str(lda.pred)\n",
    "# 测试集预测率\n",
    "table(lda.pred$class, Smarket.2005$Direction)\n",
    "mean(lda.pred$class == Smarket.2005$Direction)"
   ]
  },
  {
   "cell_type": "markdown",
   "metadata": {},
   "source": [
    "###### 看吧，和logistic一样的结果……"
   ]
  },
  {
   "cell_type": "markdown",
   "metadata": {},
   "source": [
    "### QDA模型"
   ]
  },
  {
   "cell_type": "code",
   "execution_count": 20,
   "metadata": {},
   "outputs": [
    {
     "data": {
      "text/plain": [
       "Call:\n",
       "qda(Direction ~ Lag1 + Lag2, subset = train)\n",
       "\n",
       "Prior probabilities of groups:\n",
       "    Down       Up \n",
       "0.491984 0.508016 \n",
       "\n",
       "Group means:\n",
       "            Lag1        Lag2\n",
       "Down  0.04279022  0.03389409\n",
       "Up   -0.03954635 -0.03132544"
      ]
     },
     "metadata": {},
     "output_type": "display_data"
    }
   ],
   "source": [
    "# 载入函数\n",
    "qda <- MASS::qda\n",
    "qda.fit <- Smarket %$% \n",
    "  qda(Direction ~ Lag1 + Lag2, subset = train)\n",
    "qda.fit"
   ]
  },
  {
   "cell_type": "markdown",
   "metadata": {},
   "source": [
    "###### 测试集预测概率"
   ]
  },
  {
   "cell_type": "code",
   "execution_count": 21,
   "metadata": {},
   "outputs": [
    {
     "name": "stdout",
     "output_type": "stream",
     "text": [
      "List of 2\n",
      " $ class    : Factor w/ 2 levels \"Down\",\"Up\": 2 2 2 2 2 2 2 2 2 2 ...\n",
      " $ posterior: num [1:252, 1:2] 0.487 0.476 0.464 0.474 0.49 ...\n",
      "  ..- attr(*, \"dimnames\")=List of 2\n",
      "  .. ..$ : chr [1:252] \"999\" \"1000\" \"1001\" \"1002\" ...\n",
      "  .. ..$ : chr [1:2] \"Down\" \"Up\"\n"
     ]
    }
   ],
   "source": [
    "qda.pred <- predict(qda.fit, Smarket.2005)\n",
    "str(qda.pred)"
   ]
  },
  {
   "cell_type": "markdown",
   "metadata": {},
   "source": [
    "###### 预测情况"
   ]
  },
  {
   "cell_type": "code",
   "execution_count": 22,
   "metadata": {},
   "outputs": [
    {
     "data": {
      "text/plain": [
       "      \n",
       "       Down  Up\n",
       "  Down   30  20\n",
       "  Up     81 121"
      ]
     },
     "metadata": {},
     "output_type": "display_data"
    },
    {
     "data": {
      "text/html": [
       "0.599206349206349"
      ],
      "text/latex": [
       "0.599206349206349"
      ],
      "text/markdown": [
       "0.599206349206349"
      ],
      "text/plain": [
       "[1] 0.5992063"
      ]
     },
     "metadata": {},
     "output_type": "display_data"
    }
   ],
   "source": [
    "# 预测情况\n",
    "table(qda.pred$class, Smarket.2005$Direction)\n",
    "mean(qda.pred$class == Smarket.2005$Direction)"
   ]
  },
  {
   "cell_type": "markdown",
   "metadata": {},
   "source": [
    "###### 不错不错，比前两个都好……"
   ]
  },
  {
   "cell_type": "markdown",
   "metadata": {},
   "source": [
    "### KNN模型\n",
    "使用`class`包中的`knn`函数。需要输入四个参数。knn(train, test, cl, k = 1, l = 0, prob = FALSE, use.all = TRUE)"
   ]
  },
  {
   "cell_type": "code",
   "execution_count": 26,
   "metadata": {
    "collapsed": true
   },
   "outputs": [],
   "source": [
    "library(\"class\")\n",
    "train.x <- Smarket %$% cbind(Lag1, Lag2)[train, ]\n",
    "test.x <- Smarket %$% cbind(Lag1, Lag2)[!train, ]\n",
    "train.dir <- Smarket$Direction[train]"
   ]
  },
  {
   "cell_type": "code",
   "execution_count": 27,
   "metadata": {
    "collapsed": true
   },
   "outputs": [],
   "source": [
    "set.seed(1)\n",
    "knn.pred <- knn(train.x, test.x, train.dir, k = 1)"
   ]
  },
  {
   "cell_type": "markdown",
   "metadata": {},
   "source": [
    "###### 预测情况"
   ]
  },
  {
   "cell_type": "code",
   "execution_count": 28,
   "metadata": {},
   "outputs": [
    {
     "data": {
      "text/plain": [
       "        \n",
       "knn.pred Down Up\n",
       "    Down   43 58\n",
       "    Up     68 83"
      ]
     },
     "metadata": {},
     "output_type": "display_data"
    },
    {
     "data": {
      "text/html": [
       "0.5"
      ],
      "text/latex": [
       "0.5"
      ],
      "text/markdown": [
       "0.5"
      ],
      "text/plain": [
       "[1] 0.5"
      ]
     },
     "metadata": {},
     "output_type": "display_data"
    }
   ],
   "source": [
    "# 预测情况\n",
    "table(knn.pred, Smarket.2005$Direction)\n",
    "mean(knn.pred == Smarket.2005$Direction)"
   ]
  },
  {
   "cell_type": "markdown",
   "metadata": {},
   "source": [
    "在k=1时正确率刚好50%……我们再看看k=3"
   ]
  },
  {
   "cell_type": "code",
   "execution_count": 29,
   "metadata": {},
   "outputs": [
    {
     "data": {
      "text/plain": [
       "           \n",
       "knn.pred.3k Down Up\n",
       "       Down   48 54\n",
       "       Up     63 87"
      ]
     },
     "metadata": {},
     "output_type": "display_data"
    },
    {
     "data": {
      "text/html": [
       "0.535714285714286"
      ],
      "text/latex": [
       "0.535714285714286"
      ],
      "text/markdown": [
       "0.535714285714286"
      ],
      "text/plain": [
       "[1] 0.5357143"
      ]
     },
     "metadata": {},
     "output_type": "display_data"
    }
   ],
   "source": [
    "# k=3模型\n",
    "knn.pred.3k <- knn(train.x, test.x, train.dir, k = 3)\n",
    "# 预测情况\n",
    "table(knn.pred.3k, Smarket.2005$Direction)\n",
    "mean(knn.pred.3k == Smarket.2005$Direction)"
   ]
  },
  {
   "cell_type": "markdown",
   "metadata": {},
   "source": [
    "###### 不错，53%了……"
   ]
  },
  {
   "cell_type": "markdown",
   "metadata": {},
   "source": [
    "### 大篷车保险数据KNN"
   ]
  },
  {
   "cell_type": "code",
   "execution_count": 30,
   "metadata": {},
   "outputs": [
    {
     "data": {
      "text/html": [
       "<ol class=list-inline>\n",
       "\t<li>5822</li>\n",
       "\t<li>86</li>\n",
       "</ol>\n"
      ],
      "text/latex": [
       "\\begin{enumerate*}\n",
       "\\item 5822\n",
       "\\item 86\n",
       "\\end{enumerate*}\n"
      ],
      "text/markdown": [
       "1. 5822\n",
       "2. 86\n",
       "\n",
       "\n"
      ],
      "text/plain": [
       "[1] 5822   86"
      ]
     },
     "metadata": {},
     "output_type": "display_data"
    },
    {
     "data": {
      "text/html": [
       "<ol class=list-inline>\n",
       "\t<li>'MOSTYPE'</li>\n",
       "\t<li>'MAANTHUI'</li>\n",
       "\t<li>'MGEMOMV'</li>\n",
       "\t<li>'MGEMLEEF'</li>\n",
       "\t<li>'MOSHOOFD'</li>\n",
       "\t<li>'MGODRK'</li>\n",
       "\t<li>'MGODPR'</li>\n",
       "\t<li>'MGODOV'</li>\n",
       "\t<li>'MGODGE'</li>\n",
       "\t<li>'MRELGE'</li>\n",
       "\t<li>'MRELSA'</li>\n",
       "\t<li>'MRELOV'</li>\n",
       "\t<li>'MFALLEEN'</li>\n",
       "\t<li>'MFGEKIND'</li>\n",
       "\t<li>'MFWEKIND'</li>\n",
       "\t<li>'MOPLHOOG'</li>\n",
       "\t<li>'MOPLMIDD'</li>\n",
       "\t<li>'MOPLLAAG'</li>\n",
       "\t<li>'MBERHOOG'</li>\n",
       "\t<li>'MBERZELF'</li>\n",
       "\t<li>'MBERBOER'</li>\n",
       "\t<li>'MBERMIDD'</li>\n",
       "\t<li>'MBERARBG'</li>\n",
       "\t<li>'MBERARBO'</li>\n",
       "\t<li>'MSKA'</li>\n",
       "\t<li>'MSKB1'</li>\n",
       "\t<li>'MSKB2'</li>\n",
       "\t<li>'MSKC'</li>\n",
       "\t<li>'MSKD'</li>\n",
       "\t<li>'MHHUUR'</li>\n",
       "\t<li>'MHKOOP'</li>\n",
       "\t<li>'MAUT1'</li>\n",
       "\t<li>'MAUT2'</li>\n",
       "\t<li>'MAUT0'</li>\n",
       "\t<li>'MZFONDS'</li>\n",
       "\t<li>'MZPART'</li>\n",
       "\t<li>'MINKM30'</li>\n",
       "\t<li>'MINK3045'</li>\n",
       "\t<li>'MINK4575'</li>\n",
       "\t<li>'MINK7512'</li>\n",
       "\t<li>'MINK123M'</li>\n",
       "\t<li>'MINKGEM'</li>\n",
       "\t<li>'MKOOPKLA'</li>\n",
       "\t<li>'PWAPART'</li>\n",
       "\t<li>'PWABEDR'</li>\n",
       "\t<li>'PWALAND'</li>\n",
       "\t<li>'PPERSAUT'</li>\n",
       "\t<li>'PBESAUT'</li>\n",
       "\t<li>'PMOTSCO'</li>\n",
       "\t<li>'PVRAAUT'</li>\n",
       "\t<li>'PAANHANG'</li>\n",
       "\t<li>'PTRACTOR'</li>\n",
       "\t<li>'PWERKT'</li>\n",
       "\t<li>'PBROM'</li>\n",
       "\t<li>'PLEVEN'</li>\n",
       "\t<li>'PPERSONG'</li>\n",
       "\t<li>'PGEZONG'</li>\n",
       "\t<li>'PWAOREG'</li>\n",
       "\t<li>'PBRAND'</li>\n",
       "\t<li>'PZEILPL'</li>\n",
       "\t<li>'PPLEZIER'</li>\n",
       "\t<li>'PFIETS'</li>\n",
       "\t<li>'PINBOED'</li>\n",
       "\t<li>'PBYSTAND'</li>\n",
       "\t<li>'AWAPART'</li>\n",
       "\t<li>'AWABEDR'</li>\n",
       "\t<li>'AWALAND'</li>\n",
       "\t<li>'APERSAUT'</li>\n",
       "\t<li>'ABESAUT'</li>\n",
       "\t<li>'AMOTSCO'</li>\n",
       "\t<li>'AVRAAUT'</li>\n",
       "\t<li>'AAANHANG'</li>\n",
       "\t<li>'ATRACTOR'</li>\n",
       "\t<li>'AWERKT'</li>\n",
       "\t<li>'ABROM'</li>\n",
       "\t<li>'ALEVEN'</li>\n",
       "\t<li>'APERSONG'</li>\n",
       "\t<li>'AGEZONG'</li>\n",
       "\t<li>'AWAOREG'</li>\n",
       "\t<li>'ABRAND'</li>\n",
       "\t<li>'AZEILPL'</li>\n",
       "\t<li>'APLEZIER'</li>\n",
       "\t<li>'AFIETS'</li>\n",
       "\t<li>'AINBOED'</li>\n",
       "\t<li>'ABYSTAND'</li>\n",
       "\t<li>'Purchase'</li>\n",
       "</ol>\n"
      ],
      "text/latex": [
       "\\begin{enumerate*}\n",
       "\\item 'MOSTYPE'\n",
       "\\item 'MAANTHUI'\n",
       "\\item 'MGEMOMV'\n",
       "\\item 'MGEMLEEF'\n",
       "\\item 'MOSHOOFD'\n",
       "\\item 'MGODRK'\n",
       "\\item 'MGODPR'\n",
       "\\item 'MGODOV'\n",
       "\\item 'MGODGE'\n",
       "\\item 'MRELGE'\n",
       "\\item 'MRELSA'\n",
       "\\item 'MRELOV'\n",
       "\\item 'MFALLEEN'\n",
       "\\item 'MFGEKIND'\n",
       "\\item 'MFWEKIND'\n",
       "\\item 'MOPLHOOG'\n",
       "\\item 'MOPLMIDD'\n",
       "\\item 'MOPLLAAG'\n",
       "\\item 'MBERHOOG'\n",
       "\\item 'MBERZELF'\n",
       "\\item 'MBERBOER'\n",
       "\\item 'MBERMIDD'\n",
       "\\item 'MBERARBG'\n",
       "\\item 'MBERARBO'\n",
       "\\item 'MSKA'\n",
       "\\item 'MSKB1'\n",
       "\\item 'MSKB2'\n",
       "\\item 'MSKC'\n",
       "\\item 'MSKD'\n",
       "\\item 'MHHUUR'\n",
       "\\item 'MHKOOP'\n",
       "\\item 'MAUT1'\n",
       "\\item 'MAUT2'\n",
       "\\item 'MAUT0'\n",
       "\\item 'MZFONDS'\n",
       "\\item 'MZPART'\n",
       "\\item 'MINKM30'\n",
       "\\item 'MINK3045'\n",
       "\\item 'MINK4575'\n",
       "\\item 'MINK7512'\n",
       "\\item 'MINK123M'\n",
       "\\item 'MINKGEM'\n",
       "\\item 'MKOOPKLA'\n",
       "\\item 'PWAPART'\n",
       "\\item 'PWABEDR'\n",
       "\\item 'PWALAND'\n",
       "\\item 'PPERSAUT'\n",
       "\\item 'PBESAUT'\n",
       "\\item 'PMOTSCO'\n",
       "\\item 'PVRAAUT'\n",
       "\\item 'PAANHANG'\n",
       "\\item 'PTRACTOR'\n",
       "\\item 'PWERKT'\n",
       "\\item 'PBROM'\n",
       "\\item 'PLEVEN'\n",
       "\\item 'PPERSONG'\n",
       "\\item 'PGEZONG'\n",
       "\\item 'PWAOREG'\n",
       "\\item 'PBRAND'\n",
       "\\item 'PZEILPL'\n",
       "\\item 'PPLEZIER'\n",
       "\\item 'PFIETS'\n",
       "\\item 'PINBOED'\n",
       "\\item 'PBYSTAND'\n",
       "\\item 'AWAPART'\n",
       "\\item 'AWABEDR'\n",
       "\\item 'AWALAND'\n",
       "\\item 'APERSAUT'\n",
       "\\item 'ABESAUT'\n",
       "\\item 'AMOTSCO'\n",
       "\\item 'AVRAAUT'\n",
       "\\item 'AAANHANG'\n",
       "\\item 'ATRACTOR'\n",
       "\\item 'AWERKT'\n",
       "\\item 'ABROM'\n",
       "\\item 'ALEVEN'\n",
       "\\item 'APERSONG'\n",
       "\\item 'AGEZONG'\n",
       "\\item 'AWAOREG'\n",
       "\\item 'ABRAND'\n",
       "\\item 'AZEILPL'\n",
       "\\item 'APLEZIER'\n",
       "\\item 'AFIETS'\n",
       "\\item 'AINBOED'\n",
       "\\item 'ABYSTAND'\n",
       "\\item 'Purchase'\n",
       "\\end{enumerate*}\n"
      ],
      "text/markdown": [
       "1. 'MOSTYPE'\n",
       "2. 'MAANTHUI'\n",
       "3. 'MGEMOMV'\n",
       "4. 'MGEMLEEF'\n",
       "5. 'MOSHOOFD'\n",
       "6. 'MGODRK'\n",
       "7. 'MGODPR'\n",
       "8. 'MGODOV'\n",
       "9. 'MGODGE'\n",
       "10. 'MRELGE'\n",
       "11. 'MRELSA'\n",
       "12. 'MRELOV'\n",
       "13. 'MFALLEEN'\n",
       "14. 'MFGEKIND'\n",
       "15. 'MFWEKIND'\n",
       "16. 'MOPLHOOG'\n",
       "17. 'MOPLMIDD'\n",
       "18. 'MOPLLAAG'\n",
       "19. 'MBERHOOG'\n",
       "20. 'MBERZELF'\n",
       "21. 'MBERBOER'\n",
       "22. 'MBERMIDD'\n",
       "23. 'MBERARBG'\n",
       "24. 'MBERARBO'\n",
       "25. 'MSKA'\n",
       "26. 'MSKB1'\n",
       "27. 'MSKB2'\n",
       "28. 'MSKC'\n",
       "29. 'MSKD'\n",
       "30. 'MHHUUR'\n",
       "31. 'MHKOOP'\n",
       "32. 'MAUT1'\n",
       "33. 'MAUT2'\n",
       "34. 'MAUT0'\n",
       "35. 'MZFONDS'\n",
       "36. 'MZPART'\n",
       "37. 'MINKM30'\n",
       "38. 'MINK3045'\n",
       "39. 'MINK4575'\n",
       "40. 'MINK7512'\n",
       "41. 'MINK123M'\n",
       "42. 'MINKGEM'\n",
       "43. 'MKOOPKLA'\n",
       "44. 'PWAPART'\n",
       "45. 'PWABEDR'\n",
       "46. 'PWALAND'\n",
       "47. 'PPERSAUT'\n",
       "48. 'PBESAUT'\n",
       "49. 'PMOTSCO'\n",
       "50. 'PVRAAUT'\n",
       "51. 'PAANHANG'\n",
       "52. 'PTRACTOR'\n",
       "53. 'PWERKT'\n",
       "54. 'PBROM'\n",
       "55. 'PLEVEN'\n",
       "56. 'PPERSONG'\n",
       "57. 'PGEZONG'\n",
       "58. 'PWAOREG'\n",
       "59. 'PBRAND'\n",
       "60. 'PZEILPL'\n",
       "61. 'PPLEZIER'\n",
       "62. 'PFIETS'\n",
       "63. 'PINBOED'\n",
       "64. 'PBYSTAND'\n",
       "65. 'AWAPART'\n",
       "66. 'AWABEDR'\n",
       "67. 'AWALAND'\n",
       "68. 'APERSAUT'\n",
       "69. 'ABESAUT'\n",
       "70. 'AMOTSCO'\n",
       "71. 'AVRAAUT'\n",
       "72. 'AAANHANG'\n",
       "73. 'ATRACTOR'\n",
       "74. 'AWERKT'\n",
       "75. 'ABROM'\n",
       "76. 'ALEVEN'\n",
       "77. 'APERSONG'\n",
       "78. 'AGEZONG'\n",
       "79. 'AWAOREG'\n",
       "80. 'ABRAND'\n",
       "81. 'AZEILPL'\n",
       "82. 'APLEZIER'\n",
       "83. 'AFIETS'\n",
       "84. 'AINBOED'\n",
       "85. 'ABYSTAND'\n",
       "86. 'Purchase'\n",
       "\n",
       "\n"
      ],
      "text/plain": [
       " [1] \"MOSTYPE\"  \"MAANTHUI\" \"MGEMOMV\"  \"MGEMLEEF\" \"MOSHOOFD\" \"MGODRK\"  \n",
       " [7] \"MGODPR\"   \"MGODOV\"   \"MGODGE\"   \"MRELGE\"   \"MRELSA\"   \"MRELOV\"  \n",
       "[13] \"MFALLEEN\" \"MFGEKIND\" \"MFWEKIND\" \"MOPLHOOG\" \"MOPLMIDD\" \"MOPLLAAG\"\n",
       "[19] \"MBERHOOG\" \"MBERZELF\" \"MBERBOER\" \"MBERMIDD\" \"MBERARBG\" \"MBERARBO\"\n",
       "[25] \"MSKA\"     \"MSKB1\"    \"MSKB2\"    \"MSKC\"     \"MSKD\"     \"MHHUUR\"  \n",
       "[31] \"MHKOOP\"   \"MAUT1\"    \"MAUT2\"    \"MAUT0\"    \"MZFONDS\"  \"MZPART\"  \n",
       "[37] \"MINKM30\"  \"MINK3045\" \"MINK4575\" \"MINK7512\" \"MINK123M\" \"MINKGEM\" \n",
       "[43] \"MKOOPKLA\" \"PWAPART\"  \"PWABEDR\"  \"PWALAND\"  \"PPERSAUT\" \"PBESAUT\" \n",
       "[49] \"PMOTSCO\"  \"PVRAAUT\"  \"PAANHANG\" \"PTRACTOR\" \"PWERKT\"   \"PBROM\"   \n",
       "[55] \"PLEVEN\"   \"PPERSONG\" \"PGEZONG\"  \"PWAOREG\"  \"PBRAND\"   \"PZEILPL\" \n",
       "[61] \"PPLEZIER\" \"PFIETS\"   \"PINBOED\"  \"PBYSTAND\" \"AWAPART\"  \"AWABEDR\" \n",
       "[67] \"AWALAND\"  \"APERSAUT\" \"ABESAUT\"  \"AMOTSCO\"  \"AVRAAUT\"  \"AAANHANG\"\n",
       "[73] \"ATRACTOR\" \"AWERKT\"   \"ABROM\"    \"ALEVEN\"   \"APERSONG\" \"AGEZONG\" \n",
       "[79] \"AWAOREG\"  \"ABRAND\"   \"AZEILPL\"  \"APLEZIER\" \"AFIETS\"   \"AINBOED\" \n",
       "[85] \"ABYSTAND\" \"Purchase\""
      ]
     },
     "metadata": {},
     "output_type": "display_data"
    },
    {
     "data": {
      "text/plain": [
       "\n",
       "  No  Yes \n",
       "5474  348 "
      ]
     },
     "metadata": {},
     "output_type": "display_data"
    }
   ],
   "source": [
    "dim(Caravan)\n",
    "names(Caravan)\n",
    "table(Caravan$Purchase)"
   ]
  },
  {
   "cell_type": "markdown",
   "metadata": {},
   "source": [
    "###### 数据有5822条，86个变量，其中买保险的有348个。我们先标化数据："
   ]
  },
  {
   "cell_type": "code",
   "execution_count": 31,
   "metadata": {},
   "outputs": [
    {
     "data": {
      "text/html": [
       "'matrix'"
      ],
      "text/latex": [
       "'matrix'"
      ],
      "text/markdown": [
       "'matrix'"
      ],
      "text/plain": [
       "[1] \"matrix\""
      ]
     },
     "metadata": {},
     "output_type": "display_data"
    }
   ],
   "source": [
    "# 标化数据\n",
    "Caravan.std <- scale(Caravan[, -86])\n",
    "data.class(Caravan.std)"
   ]
  },
  {
   "cell_type": "code",
   "execution_count": 32,
   "metadata": {
    "collapsed": true
   },
   "outputs": [],
   "source": [
    "# 前1000个为测试集\n",
    "test <- 1 : 1000\n",
    "train.x <- Caravan.std[-test, ]\n",
    "test.x <- Caravan.std[test, ]\n",
    "train.y <- Caravan$Purchase[-test]\n",
    "test.y <- Caravan$Purchase[test]"
   ]
  },
  {
   "cell_type": "code",
   "execution_count": 33,
   "metadata": {},
   "outputs": [
    {
     "data": {
      "text/html": [
       "0.882"
      ],
      "text/latex": [
       "0.882"
      ],
      "text/markdown": [
       "0.882"
      ],
      "text/plain": [
       "[1] 0.882"
      ]
     },
     "metadata": {},
     "output_type": "display_data"
    },
    {
     "data": {
      "text/html": [
       "0.077"
      ],
      "text/latex": [
       "0.077"
      ],
      "text/markdown": [
       "0.077"
      ],
      "text/plain": [
       "[1] 0.077"
      ]
     },
     "metadata": {},
     "output_type": "display_data"
    },
    {
     "data": {
      "text/plain": [
       "            test.y\n",
       "knn.pred.car  No Yes\n",
       "         No  873  50\n",
       "         Yes  68   9"
      ]
     },
     "metadata": {},
     "output_type": "display_data"
    }
   ],
   "source": [
    "set.seed(1)\n",
    "knn.pred.car <- knn(train.x, test.x, train.y, k = 1)\n",
    "# 预测情况\n",
    "# 准确率\n",
    "mean(test.y == knn.pred.car)\n",
    "mean(knn.pred.car == 'Yes')\n",
    "table(knn.pred.car, test.y) ## 预测了9/77购买"
   ]
  },
  {
   "cell_type": "markdown",
   "metadata": {},
   "source": [
    "###### 看着好像不错的样子，其实不然，因为"
   ]
  },
  {
   "cell_type": "code",
   "execution_count": 37,
   "metadata": {},
   "outputs": [
    {
     "data": {
      "text/html": [
       "0.116883116883117"
      ],
      "text/latex": [
       "0.116883116883117"
      ],
      "text/markdown": [
       "0.116883116883117"
      ],
      "text/plain": [
       "[1] 0.1168831"
      ]
     },
     "metadata": {},
     "output_type": "display_data"
    },
    {
     "data": {
      "text/html": [
       "0.059"
      ],
      "text/latex": [
       "0.059"
      ],
      "text/markdown": [
       "0.059"
      ],
      "text/plain": [
       "[1] 0.059"
      ]
     },
     "metadata": {},
     "output_type": "display_data"
    }
   ],
   "source": [
    "9 / 77\n",
    "# 购买占比例\n",
    "mean(test.y == 'Yes')"
   ]
  },
  {
   "cell_type": "markdown",
   "metadata": {},
   "source": [
    "###### 当k=3时"
   ]
  },
  {
   "cell_type": "code",
   "execution_count": 35,
   "metadata": {},
   "outputs": [
    {
     "data": {
      "text/html": [
       "0.925"
      ],
      "text/latex": [
       "0.925"
      ],
      "text/markdown": [
       "0.925"
      ],
      "text/plain": [
       "[1] 0.925"
      ]
     },
     "metadata": {},
     "output_type": "display_data"
    },
    {
     "data": {
      "text/html": [
       "0.026"
      ],
      "text/latex": [
       "0.026"
      ],
      "text/markdown": [
       "0.026"
      ],
      "text/plain": [
       "[1] 0.026"
      ]
     },
     "metadata": {},
     "output_type": "display_data"
    },
    {
     "data": {
      "text/plain": [
       "            test.y\n",
       "knn.pred.car  No Yes\n",
       "         No  920  54\n",
       "         Yes  21   5"
      ]
     },
     "metadata": {},
     "output_type": "display_data"
    }
   ],
   "source": [
    "## 当k = 3\n",
    "knn.pred.car <- knn(train.x, test.x, train.y, k = 3)\n",
    "# 预测情况\n",
    "# 准确率\n",
    "mean(test.y == knn.pred.car)\n",
    "mean(knn.pred.car == 'Yes')\n",
    "table(knn.pred.car, test.y) ## 预测了5/26购买"
   ]
  },
  {
   "cell_type": "code",
   "execution_count": 38,
   "metadata": {},
   "outputs": [
    {
     "data": {
      "text/html": [
       "0.192307692307692"
      ],
      "text/latex": [
       "0.192307692307692"
      ],
      "text/markdown": [
       "0.192307692307692"
      ],
      "text/plain": [
       "[1] 0.1923077"
      ]
     },
     "metadata": {},
     "output_type": "display_data"
    }
   ],
   "source": [
    "5 / 26"
   ]
  },
  {
   "cell_type": "markdown",
   "metadata": {},
   "source": [
    "###### 预测了19%的购买"
   ]
  },
  {
   "cell_type": "markdown",
   "metadata": {},
   "source": [
    "###### 当k=5时"
   ]
  },
  {
   "cell_type": "code",
   "execution_count": 39,
   "metadata": {},
   "outputs": [
    {
     "data": {
      "text/html": [
       "0.934"
      ],
      "text/latex": [
       "0.934"
      ],
      "text/markdown": [
       "0.934"
      ],
      "text/plain": [
       "[1] 0.934"
      ]
     },
     "metadata": {},
     "output_type": "display_data"
    },
    {
     "data": {
      "text/html": [
       "0.015"
      ],
      "text/latex": [
       "0.015"
      ],
      "text/markdown": [
       "0.015"
      ],
      "text/plain": [
       "[1] 0.015"
      ]
     },
     "metadata": {},
     "output_type": "display_data"
    },
    {
     "data": {
      "text/plain": [
       "            test.y\n",
       "knn.pred.car  No Yes\n",
       "         No  930  55\n",
       "         Yes  11   4"
      ]
     },
     "metadata": {},
     "output_type": "display_data"
    }
   ],
   "source": [
    "## 当k = 5\n",
    "knn.pred.car <- knn(train.x, test.x, train.y, k = 5)\n",
    "# 预测情况\n",
    "# 准确率\n",
    "mean(test.y == knn.pred.car)\n",
    "mean(knn.pred.car == 'Yes')\n",
    "table(knn.pred.car, test.y) ## 预测了4/15购买"
   ]
  },
  {
   "cell_type": "code",
   "execution_count": 40,
   "metadata": {},
   "outputs": [
    {
     "data": {
      "text/html": [
       "0.266666666666667"
      ],
      "text/latex": [
       "0.266666666666667"
      ],
      "text/markdown": [
       "0.266666666666667"
      ],
      "text/plain": [
       "[1] 0.2666667"
      ]
     },
     "metadata": {},
     "output_type": "display_data"
    }
   ],
   "source": [
    "4 / 15"
   ]
  },
  {
   "cell_type": "markdown",
   "metadata": {},
   "source": [
    "###### 预测了26.6%"
   ]
  },
  {
   "cell_type": "markdown",
   "metadata": {},
   "source": [
    "### 大篷车logistic模型"
   ]
  },
  {
   "cell_type": "code",
   "execution_count": 42,
   "metadata": {},
   "outputs": [
    {
     "name": "stderr",
     "output_type": "stream",
     "text": [
      "Warning message:\n",
      "\"glm.fit: fitted probabilities numerically 0 or 1 occurred\""
     ]
    },
    {
     "data": {
      "text/plain": [
       "            test.y\n",
       "glm.pred.car  No Yes\n",
       "         No  934  59\n",
       "         Yes   7   0"
      ]
     },
     "metadata": {},
     "output_type": "display_data"
    }
   ],
   "source": [
    "glm.fit.car <- glm(Purchase ~ .,data = Caravan, family =binomial, subset = -test)\n",
    "glm.fit.car.probs <- predict(glm.fit.car, Caravan[test, ], type = 'response')\n",
    "glm.pred.car <- rep('No', 1000)\n",
    "glm.pred.car[glm.fit.car.probs > .5] <- 'Yes'\n",
    "table(glm.pred.car, test.y)"
   ]
  },
  {
   "cell_type": "markdown",
   "metadata": {},
   "source": [
    "###### 预测了7个购买，还都预测错了，sad……我们把概率阈值下调到0.25看看"
   ]
  },
  {
   "cell_type": "code",
   "execution_count": 43,
   "metadata": {},
   "outputs": [
    {
     "data": {
      "text/plain": [
       "            test.y\n",
       "glm.pred.car  No Yes\n",
       "         No  919  48\n",
       "         Yes  22  11"
      ]
     },
     "metadata": {},
     "output_type": "display_data"
    }
   ],
   "source": [
    "# 阈值改为.25\n",
    "glm.pred.car[glm.fit.car.probs > .25] <- 'Yes'\n",
    "# 预测情况\n",
    "table(glm.pred.car, test.y) ## 11/33"
   ]
  },
  {
   "cell_type": "code",
   "execution_count": 44,
   "metadata": {},
   "outputs": [
    {
     "data": {
      "text/html": [
       "0.333333333333333"
      ],
      "text/latex": [
       "0.333333333333333"
      ],
      "text/markdown": [
       "0.333333333333333"
      ],
      "text/plain": [
       "[1] 0.3333333"
      ]
     },
     "metadata": {},
     "output_type": "display_data"
    }
   ],
   "source": [
    "11 / 33"
   ]
  },
  {
   "cell_type": "markdown",
   "metadata": {},
   "source": [
    "###### 不错不错……"
   ]
  },
  {
   "cell_type": "markdown",
   "metadata": {},
   "source": [
    "好吧，这章还没学透，回头再回来继续学,习题也很多，挑几道改天做吧……要去学点别的东东了……"
   ]
  }
 ],
 "metadata": {
  "kernelspec": {
   "display_name": "R",
   "language": "R",
   "name": "ir"
  },
  "language_info": {
   "codemirror_mode": "r",
   "file_extension": ".r",
   "mimetype": "text/x-r-source",
   "name": "R",
   "pygments_lexer": "r",
   "version": "3.4.1"
  }
 },
 "nbformat": 4,
 "nbformat_minor": 2
}
