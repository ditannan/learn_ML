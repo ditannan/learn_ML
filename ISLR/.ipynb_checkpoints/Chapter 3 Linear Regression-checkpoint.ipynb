{
 "cells": [
  {
   "cell_type": "markdown",
   "metadata": {},
   "source": [
    "# Chapter 3 Linear Regression"
   ]
  },
  {
   "cell_type": "markdown",
   "metadata": {},
   "source": [
    "原书地址：[An Introduction to Statistical Learning: with Applications in R](http://www-bcf.usc.edu/~gareth/ISL/)"
   ]
  },
  {
   "cell_type": "markdown",
   "metadata": {},
   "source": [
    "## 3.1 简单线性回归"
   ]
  },
  {
   "cell_type": "markdown",
   "metadata": {},
   "source": [
    "$$Y\\approx\\beta_0+\\beta_1X$$\n",
    "$$\\hat{y}=\\hat{\\beta_0}+\\hat{\\beta_1}x$$"
   ]
  },
  {
   "cell_type": "markdown",
   "metadata": {},
   "source": [
    "### 3.1.1 估计系数\n",
    "最小二乘估计。\n",
    "### 3.1.2 评估系数估计准确性\n",
    "标准误差(standard error, $SE(\\hat{\\mu})$)，可用于计算置信区间。\n",
    "### 3.1.3评价模型准确性\n",
    "残差标准误RSE、$R^2$。"
   ]
  },
  {
   "cell_type": "markdown",
   "metadata": {},
   "source": [
    "## 3.2 多元线性回归\n",
    "多个预测变量。"
   ]
  },
  {
   "cell_type": "markdown",
   "metadata": {},
   "source": [
    "## 3.3 注意事项"
   ]
  },
  {
   "cell_type": "markdown",
   "metadata": {},
   "source": [
    "### 3.3.1 定性预测变量\n",
    "哑元化。\n",
    "### 3.3.2 线性模型扩展\n",
    "- 去除可加性假设：添加交互项。  \n",
    "- 非线性关系：多项式回归。"
   ]
  },
  {
   "cell_type": "markdown",
   "metadata": {},
   "source": [
    "### 3.3.3 潜在的问题\n",
    "#### 1. 数据的非线性\n",
    "可通过残差图判断，如存在规律，比如U型，提示数据非线性。简单解决方法是在模型中使用预测变量的非线性变换，例如$\\log{X}$，$\\sqrt{X}$和$X^2$。\n",
    "#### 2. 误差项自相关\n",
    "如时间序列数据，可通过绘制时间函数的残差，如果不相关，图中没有明显规律，如果相关，相邻残差可能有类似值。\n",
    "#### 3. 误差项方差非恒定\n",
    "如残差图漏斗形（喇叭形），误差性方差随响应值的增加而增加。解决方案：使用凹函数对响应值*y*进行变换，如$\\log{y}和\\sqrt{y}$。有时估计每个响应值的方差，用加权最小二乘法拟合模型，即权重与方差的倒数成反比例。\n",
    "#### 4. 离群点\n",
    "指$y_i$远离模型预测值的点。可通过残差图识别，通常的血生化残差在-3到3之间。\n",
    "#### 5. 高杠杆点\n",
    "观测点$x_i$是异常。往往对回归直线的估计有很大的影响。在多远回归中，可通过计算杠杆统计量来判断。\n",
    "#### 6. 共线性\n",
    "计算方差膨胀因子VIF。可从回归中提出一个变量，或把共线性变量组合成一个单一的预测变量。\n",
    "$$VIF(\\hat{\\beta_j})=\\frac{1}{1-R_{X_j\\,|\\, X_{-j}}^2}$$"
   ]
  },
  {
   "cell_type": "markdown",
   "metadata": {},
   "source": [
    "## 3.4 营销计划"
   ]
  },
  {
   "cell_type": "markdown",
   "metadata": {},
   "source": [
    "### （1）广告预算和销量有关吗？"
   ]
  },
  {
   "cell_type": "code",
   "execution_count": 27,
   "metadata": {},
   "outputs": [],
   "source": [
    "# loading packages\n",
    "library(\"ggplot2\")\n",
    "library(\"magrittr\")"
   ]
  },
  {
   "cell_type": "code",
   "execution_count": 17,
   "metadata": {},
   "outputs": [
    {
     "data": {
      "text/html": [
       "<table>\n",
       "<thead><tr><th scope=col>X</th><th scope=col>TV</th><th scope=col>radio</th><th scope=col>newspaper</th><th scope=col>sales</th></tr></thead>\n",
       "<tbody>\n",
       "\t<tr><td>1    </td><td>230.1</td><td>37.8 </td><td>69.2 </td><td>22.1 </td></tr>\n",
       "\t<tr><td>2    </td><td> 44.5</td><td>39.3 </td><td>45.1 </td><td>10.4 </td></tr>\n",
       "\t<tr><td>3    </td><td> 17.2</td><td>45.9 </td><td>69.3 </td><td> 9.3 </td></tr>\n",
       "\t<tr><td>4    </td><td>151.5</td><td>41.3 </td><td>58.5 </td><td>18.5 </td></tr>\n",
       "\t<tr><td>5    </td><td>180.8</td><td>10.8 </td><td>58.4 </td><td>12.9 </td></tr>\n",
       "\t<tr><td>6    </td><td>  8.7</td><td>48.9 </td><td>75.0 </td><td> 7.2 </td></tr>\n",
       "</tbody>\n",
       "</table>\n"
      ],
      "text/latex": [
       "\\begin{tabular}{r|lllll}\n",
       " X & TV & radio & newspaper & sales\\\\\n",
       "\\hline\n",
       "\t 1     & 230.1 & 37.8  & 69.2  & 22.1 \\\\\n",
       "\t 2     &  44.5 & 39.3  & 45.1  & 10.4 \\\\\n",
       "\t 3     &  17.2 & 45.9  & 69.3  &  9.3 \\\\\n",
       "\t 4     & 151.5 & 41.3  & 58.5  & 18.5 \\\\\n",
       "\t 5     & 180.8 & 10.8  & 58.4  & 12.9 \\\\\n",
       "\t 6     &   8.7 & 48.9  & 75.0  &  7.2 \\\\\n",
       "\\end{tabular}\n"
      ],
      "text/markdown": [
       "\n",
       "X | TV | radio | newspaper | sales | \n",
       "|---|---|---|---|---|---|\n",
       "| 1     | 230.1 | 37.8  | 69.2  | 22.1  | \n",
       "| 2     |  44.5 | 39.3  | 45.1  | 10.4  | \n",
       "| 3     |  17.2 | 45.9  | 69.3  |  9.3  | \n",
       "| 4     | 151.5 | 41.3  | 58.5  | 18.5  | \n",
       "| 5     | 180.8 | 10.8  | 58.4  | 12.9  | \n",
       "| 6     |   8.7 | 48.9  | 75.0  |  7.2  | \n",
       "\n",
       "\n"
      ],
      "text/plain": [
       "  X TV    radio newspaper sales\n",
       "1 1 230.1 37.8  69.2      22.1 \n",
       "2 2  44.5 39.3  45.1      10.4 \n",
       "3 3  17.2 45.9  69.3       9.3 \n",
       "4 4 151.5 41.3  58.5      18.5 \n",
       "5 5 180.8 10.8  58.4      12.9 \n",
       "6 6   8.7 48.9  75.0       7.2 "
      ]
     },
     "metadata": {},
     "output_type": "display_data"
    }
   ],
   "source": [
    "# read data\n",
    "advdf <- read.csv('Advertising.csv')\n",
    "head(advdf)"
   ]
  },
  {
   "cell_type": "markdown",
   "metadata": {},
   "source": [
    "#### TV广告投入对销量影响"
   ]
  },
  {
   "cell_type": "code",
   "execution_count": 11,
   "metadata": {},
   "outputs": [
    {
     "data": {},
     "metadata": {},
     "output_type": "display_data"
    },
    {
     "data": {
      "image/png": "[encoded data removed]",
      "text/plain": [
       "plot without title"
      ]
     },
     "metadata": {},
     "output_type": "display_data"
    }
   ],
   "source": [
    "# TV, sales散点图\n",
    "advdf %>% \n",
    "  ggplot(aes(TV, sales)) +\n",
    "  geom_point()"
   ]
  },
  {
   "cell_type": "markdown",
   "metadata": {},
   "source": [
    "#### 多重线性回归"
   ]
  },
  {
   "cell_type": "code",
   "execution_count": 19,
   "metadata": {},
   "outputs": [
    {
     "data": {
      "text/plain": [
       "\n",
       "Call:\n",
       "lm(formula = sales ~ TV + radio + newspaper, data = advdf)\n",
       "\n",
       "Residuals:\n",
       "    Min      1Q  Median      3Q     Max \n",
       "-8.8277 -0.8908  0.2418  1.1893  2.8292 \n",
       "\n",
       "Coefficients:\n",
       "             Estimate Std. Error t value Pr(>|t|)    \n",
       "(Intercept)  2.938889   0.311908   9.422   <2e-16 ***\n",
       "TV           0.045765   0.001395  32.809   <2e-16 ***\n",
       "radio        0.188530   0.008611  21.893   <2e-16 ***\n",
       "newspaper   -0.001037   0.005871  -0.177     0.86    \n",
       "---\n",
       "Signif. codes:  0 '***' 0.001 '**' 0.01 '*' 0.05 '.' 0.1 ' ' 1\n",
       "\n",
       "Residual standard error: 1.686 on 196 degrees of freedom\n",
       "Multiple R-squared:  0.8972,\tAdjusted R-squared:  0.8956 \n",
       "F-statistic: 570.3 on 3 and 196 DF,  p-value: < 2.2e-16\n"
      ]
     },
     "metadata": {},
     "output_type": "display_data"
    }
   ],
   "source": [
    "fit <- lm(sales ~ TV + radio + newspaper, data = advdf)\n",
    "summary(fit)"
   ]
  },
  {
   "cell_type": "markdown",
   "metadata": {},
   "source": [
    "- F = 570，P<0.05，广告投入和销量存在相关性。"
   ]
  },
  {
   "cell_type": "markdown",
   "metadata": {},
   "source": [
    "#### （2）广告预算和销售间的关系有多强？\n",
    "- $RSE=1.686$，响应变量的平均值为14.0225, 误差百分比约为12%。\n",
    "- $R^2=0.89$\n",
    "\n",
    "#### （3）哪种媒体能促进销售\n",
    "TV、radio\n",
    "#### （4）计算参数估计得置信区间\n",
    "TV: $0.045765 \\,(0.045765 \\pm 1.96 \\times 0.001395)$，其他同理。"
   ]
  },
  {
   "cell_type": "code",
   "execution_count": 33,
   "metadata": {},
   "outputs": [
    {
     "data": {
      "text/html": [
       "<table>\n",
       "<thead><tr><th></th><th scope=col>2.5 %</th><th scope=col>97.5 %</th></tr></thead>\n",
       "<tbody>\n",
       "\t<tr><th scope=row>(Intercept)</th><td> 2.32376228</td><td>3.55401646 </td></tr>\n",
       "\t<tr><th scope=row>TV</th><td> 0.04301371</td><td>0.04851558 </td></tr>\n",
       "\t<tr><th scope=row>radio</th><td> 0.17154745</td><td>0.20551259 </td></tr>\n",
       "\t<tr><th scope=row>newspaper</th><td>-0.01261595</td><td>0.01054097 </td></tr>\n",
       "</tbody>\n",
       "</table>\n"
      ],
      "text/latex": [
       "\\begin{tabular}{r|ll}\n",
       "  & 2.5 \\% & 97.5 \\%\\\\\n",
       "\\hline\n",
       "\t(Intercept) &  2.32376228 & 3.55401646 \\\\\n",
       "\tTV &  0.04301371 & 0.04851558 \\\\\n",
       "\tradio &  0.17154745 & 0.20551259 \\\\\n",
       "\tnewspaper & -0.01261595 & 0.01054097 \\\\\n",
       "\\end{tabular}\n"
      ],
      "text/markdown": [
       "\n",
       "| <!--/--> | 2.5 % | 97.5 % | \n",
       "|---|---|---|---|\n",
       "| (Intercept) |  2.32376228 | 3.55401646  | \n",
       "| TV |  0.04301371 | 0.04851558  | \n",
       "| radio |  0.17154745 | 0.20551259  | \n",
       "| newspaper | -0.01261595 | 0.01054097  | \n",
       "\n",
       "\n"
      ],
      "text/plain": [
       "            2.5 %       97.5 %    \n",
       "(Intercept)  2.32376228 3.55401646\n",
       "TV           0.04301371 0.04851558\n",
       "radio        0.17154745 0.20551259\n",
       "newspaper   -0.01261595 0.01054097"
      ]
     },
     "metadata": {},
     "output_type": "display_data"
    }
   ],
   "source": [
    "# 参数估计置信区间\n",
    "confint(fit)"
   ]
  },
  {
   "cell_type": "markdown",
   "metadata": {},
   "source": [
    "#### （5）对未来销售的预测精度如何？\n",
    "想预测单个响应值，可使用预测区间；预测平均响应$f(X)$，使用置信区间。预测区间比置信区间宽，因为预测区间解释了$\\epsilon$的不确定性，是不可约误差。\n",
    "#### （6）这种关系是否是线性\n",
    "可用残差图识别非线性，如下图所示，U型残差图，提示存在非线性效应。"
   ]
  },
  {
   "cell_type": "code",
   "execution_count": 25,
   "metadata": {},
   "outputs": [
    {
     "data": {
      "image/png": "[encoded data removed]",
      "text/plain": [
       "Plot with title \"\""
      ]
     },
     "metadata": {},
     "output_type": "display_data"
    }
   ],
   "source": [
    "par(mfrow = c(2, 2))\n",
    "plot(fit)"
   ]
  },
  {
   "cell_type": "markdown",
   "metadata": {},
   "source": [
    "#### （7）广告媒体间是否存在协同效应？\n",
    "标准线性回归模型预测变量和响应变量是可加的，即每个预测变量对响应变量的影响与其他预测变量无关。拟合交互项模型。"
   ]
  },
  {
   "cell_type": "code",
   "execution_count": 26,
   "metadata": {},
   "outputs": [
    {
     "data": {
      "text/plain": [
       "\n",
       "Call:\n",
       "lm(formula = sales ~ TV + radio + TV:radio, data = advdf)\n",
       "\n",
       "Residuals:\n",
       "    Min      1Q  Median      3Q     Max \n",
       "-6.3366 -0.4028  0.1831  0.5948  1.5246 \n",
       "\n",
       "Coefficients:\n",
       "             Estimate Std. Error t value Pr(>|t|)    \n",
       "(Intercept) 6.750e+00  2.479e-01  27.233   <2e-16 ***\n",
       "TV          1.910e-02  1.504e-03  12.699   <2e-16 ***\n",
       "radio       2.886e-02  8.905e-03   3.241   0.0014 ** \n",
       "TV:radio    1.086e-03  5.242e-05  20.727   <2e-16 ***\n",
       "---\n",
       "Signif. codes:  0 '***' 0.001 '**' 0.01 '*' 0.05 '.' 0.1 ' ' 1\n",
       "\n",
       "Residual standard error: 0.9435 on 196 degrees of freedom\n",
       "Multiple R-squared:  0.9678,\tAdjusted R-squared:  0.9673 \n",
       "F-statistic:  1963 on 3 and 196 DF,  p-value: < 2.2e-16\n"
      ]
     },
     "metadata": {},
     "output_type": "display_data"
    }
   ],
   "source": [
    "fit2 <- lm(sales ~ TV + radio + TV : radio, data = advdf)\n",
    "summary(fit2)"
   ]
  },
  {
   "cell_type": "markdown",
   "metadata": {},
   "source": [
    "增加交互项后$R^2$增加到了0.96."
   ]
  },
  {
   "cell_type": "markdown",
   "metadata": {},
   "source": [
    "## 3.5 KNN回归\n",
    "给定k值和预测点$x_0$，首先确定k个最接近$x_0$的训练观测，,记为$\\scr{N_0}$，用这些数据的平均值来估计$f(x_0)$。\n",
    "$$\\hat{f(x_0)}=\\frac{1}{K}\\sum_{x_i\\in\\scr{N_0}}y_i$$"
   ]
  },
  {
   "cell_type": "markdown",
   "metadata": {},
   "source": [
    "## 3.6 Lab: Linear Regression"
   ]
  },
  {
   "cell_type": "code",
   "execution_count": 28,
   "metadata": {
    "collapsed": true
   },
   "outputs": [],
   "source": [
    "# loading packages\n",
    "library(\"ISLR\")\n",
    "library(\"MASS\")"
   ]
  },
  {
   "cell_type": "markdown",
   "metadata": {},
   "source": [
    "### 波士顿房价数据集"
   ]
  },
  {
   "cell_type": "code",
   "execution_count": 35,
   "metadata": {},
   "outputs": [
    {
     "data": {
      "text/html": [
       "<table>\n",
       "<thead><tr><th scope=col>crim</th><th scope=col>zn</th><th scope=col>indus</th><th scope=col>chas</th><th scope=col>nox</th><th scope=col>rm</th><th scope=col>age</th><th scope=col>dis</th><th scope=col>rad</th><th scope=col>tax</th><th scope=col>ptratio</th><th scope=col>black</th><th scope=col>lstat</th><th scope=col>medv</th></tr></thead>\n",
       "<tbody>\n",
       "\t<tr><td>0.00632</td><td>18     </td><td>2.31   </td><td>0      </td><td>0.538  </td><td>6.575  </td><td>65.2   </td><td>4.0900 </td><td>1      </td><td>296    </td><td>15.3   </td><td>396.90 </td><td>4.98   </td><td>24.0   </td></tr>\n",
       "\t<tr><td>0.02731</td><td> 0     </td><td>7.07   </td><td>0      </td><td>0.469  </td><td>6.421  </td><td>78.9   </td><td>4.9671 </td><td>2      </td><td>242    </td><td>17.8   </td><td>396.90 </td><td>9.14   </td><td>21.6   </td></tr>\n",
       "\t<tr><td>0.02729</td><td> 0     </td><td>7.07   </td><td>0      </td><td>0.469  </td><td>7.185  </td><td>61.1   </td><td>4.9671 </td><td>2      </td><td>242    </td><td>17.8   </td><td>392.83 </td><td>4.03   </td><td>34.7   </td></tr>\n",
       "\t<tr><td>0.03237</td><td> 0     </td><td>2.18   </td><td>0      </td><td>0.458  </td><td>6.998  </td><td>45.8   </td><td>6.0622 </td><td>3      </td><td>222    </td><td>18.7   </td><td>394.63 </td><td>2.94   </td><td>33.4   </td></tr>\n",
       "\t<tr><td>0.06905</td><td> 0     </td><td>2.18   </td><td>0      </td><td>0.458  </td><td>7.147  </td><td>54.2   </td><td>6.0622 </td><td>3      </td><td>222    </td><td>18.7   </td><td>396.90 </td><td>5.33   </td><td>36.2   </td></tr>\n",
       "\t<tr><td>0.02985</td><td> 0     </td><td>2.18   </td><td>0      </td><td>0.458  </td><td>6.430  </td><td>58.7   </td><td>6.0622 </td><td>3      </td><td>222    </td><td>18.7   </td><td>394.12 </td><td>5.21   </td><td>28.7   </td></tr>\n",
       "</tbody>\n",
       "</table>\n"
      ],
      "text/latex": [
       "\\begin{tabular}{r|llllllllllllll}\n",
       " crim & zn & indus & chas & nox & rm & age & dis & rad & tax & ptratio & black & lstat & medv\\\\\n",
       "\\hline\n",
       "\t 0.00632 & 18      & 2.31    & 0       & 0.538   & 6.575   & 65.2    & 4.0900  & 1       & 296     & 15.3    & 396.90  & 4.98    & 24.0   \\\\\n",
       "\t 0.02731 &  0      & 7.07    & 0       & 0.469   & 6.421   & 78.9    & 4.9671  & 2       & 242     & 17.8    & 396.90  & 9.14    & 21.6   \\\\\n",
       "\t 0.02729 &  0      & 7.07    & 0       & 0.469   & 7.185   & 61.1    & 4.9671  & 2       & 242     & 17.8    & 392.83  & 4.03    & 34.7   \\\\\n",
       "\t 0.03237 &  0      & 2.18    & 0       & 0.458   & 6.998   & 45.8    & 6.0622  & 3       & 222     & 18.7    & 394.63  & 2.94    & 33.4   \\\\\n",
       "\t 0.06905 &  0      & 2.18    & 0       & 0.458   & 7.147   & 54.2    & 6.0622  & 3       & 222     & 18.7    & 396.90  & 5.33    & 36.2   \\\\\n",
       "\t 0.02985 &  0      & 2.18    & 0       & 0.458   & 6.430   & 58.7    & 6.0622  & 3       & 222     & 18.7    & 394.12  & 5.21    & 28.7   \\\\\n",
       "\\end{tabular}\n"
      ],
      "text/markdown": [
       "\n",
       "crim | zn | indus | chas | nox | rm | age | dis | rad | tax | ptratio | black | lstat | medv | \n",
       "|---|---|---|---|---|---|\n",
       "| 0.00632 | 18      | 2.31    | 0       | 0.538   | 6.575   | 65.2    | 4.0900  | 1       | 296     | 15.3    | 396.90  | 4.98    | 24.0    | \n",
       "| 0.02731 |  0      | 7.07    | 0       | 0.469   | 6.421   | 78.9    | 4.9671  | 2       | 242     | 17.8    | 396.90  | 9.14    | 21.6    | \n",
       "| 0.02729 |  0      | 7.07    | 0       | 0.469   | 7.185   | 61.1    | 4.9671  | 2       | 242     | 17.8    | 392.83  | 4.03    | 34.7    | \n",
       "| 0.03237 |  0      | 2.18    | 0       | 0.458   | 6.998   | 45.8    | 6.0622  | 3       | 222     | 18.7    | 394.63  | 2.94    | 33.4    | \n",
       "| 0.06905 |  0      | 2.18    | 0       | 0.458   | 7.147   | 54.2    | 6.0622  | 3       | 222     | 18.7    | 396.90  | 5.33    | 36.2    | \n",
       "| 0.02985 |  0      | 2.18    | 0       | 0.458   | 6.430   | 58.7    | 6.0622  | 3       | 222     | 18.7    | 394.12  | 5.21    | 28.7    | \n",
       "\n",
       "\n"
      ],
      "text/plain": [
       "  crim    zn indus chas nox   rm    age  dis    rad tax ptratio black  lstat\n",
       "1 0.00632 18 2.31  0    0.538 6.575 65.2 4.0900 1   296 15.3    396.90 4.98 \n",
       "2 0.02731  0 7.07  0    0.469 6.421 78.9 4.9671 2   242 17.8    396.90 9.14 \n",
       "3 0.02729  0 7.07  0    0.469 7.185 61.1 4.9671 2   242 17.8    392.83 4.03 \n",
       "4 0.03237  0 2.18  0    0.458 6.998 45.8 6.0622 3   222 18.7    394.63 2.94 \n",
       "5 0.06905  0 2.18  0    0.458 7.147 54.2 6.0622 3   222 18.7    396.90 5.33 \n",
       "6 0.02985  0 2.18  0    0.458 6.430 58.7 6.0622 3   222 18.7    394.12 5.21 \n",
       "  medv\n",
       "1 24.0\n",
       "2 21.6\n",
       "3 34.7\n",
       "4 33.4\n",
       "5 36.2\n",
       "6 28.7"
      ]
     },
     "metadata": {},
     "output_type": "display_data"
    }
   ],
   "source": [
    "head(Boston)"
   ]
  },
  {
   "cell_type": "markdown",
   "metadata": {},
   "source": [
    "#### 简单线性回归\n",
    "将lstat（社会经济地位低的家庭所占比例）作为预测变量，medv（房价中位数）作为响应变量。"
   ]
  },
  {
   "cell_type": "code",
   "execution_count": 74,
   "metadata": {},
   "outputs": [
    {
     "data": {
      "text/plain": [
       "\n",
       "Call:\n",
       "lm(formula = medv ~ lstat, data = Boston)\n",
       "\n",
       "Residuals:\n",
       "    Min      1Q  Median      3Q     Max \n",
       "-15.168  -3.990  -1.318   2.034  24.500 \n",
       "\n",
       "Coefficients:\n",
       "            Estimate Std. Error t value Pr(>|t|)    \n",
       "(Intercept) 34.55384    0.56263   61.41   <2e-16 ***\n",
       "lstat       -0.95005    0.03873  -24.53   <2e-16 ***\n",
       "---\n",
       "Signif. codes:  0 '***' 0.001 '**' 0.01 '*' 0.05 '.' 0.1 ' ' 1\n",
       "\n",
       "Residual standard error: 6.216 on 504 degrees of freedom\n",
       "Multiple R-squared:  0.5441,\tAdjusted R-squared:  0.5432 \n",
       "F-statistic: 601.6 on 1 and 504 DF,  p-value: < 2.2e-16\n"
      ]
     },
     "metadata": {},
     "output_type": "display_data"
    }
   ],
   "source": [
    "simple.lm <- lm(medv ~ lstat, data = Boston)\n",
    "simple.fit <- summary(simple.lm)\n",
    "simple.fit"
   ]
  },
  {
   "cell_type": "code",
   "execution_count": 76,
   "metadata": {},
   "outputs": [
    {
     "data": {
      "text/html": [
       "<ol class=list-inline>\n",
       "\t<li>'coefficients'</li>\n",
       "\t<li>'residuals'</li>\n",
       "\t<li>'effects'</li>\n",
       "\t<li>'rank'</li>\n",
       "\t<li>'fitted.values'</li>\n",
       "\t<li>'assign'</li>\n",
       "\t<li>'qr'</li>\n",
       "\t<li>'df.residual'</li>\n",
       "\t<li>'xlevels'</li>\n",
       "\t<li>'call'</li>\n",
       "\t<li>'terms'</li>\n",
       "\t<li>'model'</li>\n",
       "</ol>\n"
      ],
      "text/latex": [
       "\\begin{enumerate*}\n",
       "\\item 'coefficients'\n",
       "\\item 'residuals'\n",
       "\\item 'effects'\n",
       "\\item 'rank'\n",
       "\\item 'fitted.values'\n",
       "\\item 'assign'\n",
       "\\item 'qr'\n",
       "\\item 'df.residual'\n",
       "\\item 'xlevels'\n",
       "\\item 'call'\n",
       "\\item 'terms'\n",
       "\\item 'model'\n",
       "\\end{enumerate*}\n"
      ],
      "text/markdown": [
       "1. 'coefficients'\n",
       "2. 'residuals'\n",
       "3. 'effects'\n",
       "4. 'rank'\n",
       "5. 'fitted.values'\n",
       "6. 'assign'\n",
       "7. 'qr'\n",
       "8. 'df.residual'\n",
       "9. 'xlevels'\n",
       "10. 'call'\n",
       "11. 'terms'\n",
       "12. 'model'\n",
       "\n",
       "\n"
      ],
      "text/plain": [
       " [1] \"coefficients\"  \"residuals\"     \"effects\"       \"rank\"         \n",
       " [5] \"fitted.values\" \"assign\"        \"qr\"            \"df.residual\"  \n",
       " [9] \"xlevels\"       \"call\"          \"terms\"         \"model\"        "
      ]
     },
     "metadata": {},
     "output_type": "display_data"
    }
   ],
   "source": [
    "# 模型储存的其他信息\n",
    "names(simple.lm)"
   ]
  },
  {
   "cell_type": "code",
   "execution_count": 78,
   "metadata": {},
   "outputs": [
    {
     "data": {
      "text/html": [
       "<table>\n",
       "<thead><tr><th></th><th scope=col>2.5 %</th><th scope=col>97.5 %</th></tr></thead>\n",
       "<tbody>\n",
       "\t<tr><th scope=row>(Intercept)</th><td>33.448457 </td><td>35.6592247</td></tr>\n",
       "\t<tr><th scope=row>lstat</th><td>-1.026148 </td><td>-0.8739505</td></tr>\n",
       "</tbody>\n",
       "</table>\n"
      ],
      "text/latex": [
       "\\begin{tabular}{r|ll}\n",
       "  & 2.5 \\% & 97.5 \\%\\\\\n",
       "\\hline\n",
       "\t(Intercept) & 33.448457  & 35.6592247\\\\\n",
       "\tlstat & -1.026148  & -0.8739505\\\\\n",
       "\\end{tabular}\n"
      ],
      "text/markdown": [
       "\n",
       "| <!--/--> | 2.5 % | 97.5 % | \n",
       "|---|---|\n",
       "| (Intercept) | 33.448457  | 35.6592247 | \n",
       "| lstat | -1.026148  | -0.8739505 | \n",
       "\n",
       "\n"
      ],
      "text/plain": [
       "            2.5 %     97.5 %    \n",
       "(Intercept) 33.448457 35.6592247\n",
       "lstat       -1.026148 -0.8739505"
      ]
     },
     "metadata": {},
     "output_type": "display_data"
    }
   ],
   "source": [
    "# 参数置信区间\n",
    "confint(simple.lm)"
   ]
  },
  {
   "cell_type": "code",
   "execution_count": 79,
   "metadata": {},
   "outputs": [
    {
     "data": {
      "text/html": [
       "<table>\n",
       "<thead><tr><th></th><th scope=col>fit</th><th scope=col>lwr</th><th scope=col>upr</th></tr></thead>\n",
       "<tbody>\n",
       "\t<tr><th scope=row>1</th><td>29.80359</td><td>29.00741</td><td>30.59978</td></tr>\n",
       "\t<tr><th scope=row>2</th><td>25.05335</td><td>24.47413</td><td>25.63256</td></tr>\n",
       "\t<tr><th scope=row>3</th><td>20.30310</td><td>19.73159</td><td>20.87461</td></tr>\n",
       "</tbody>\n",
       "</table>\n"
      ],
      "text/latex": [
       "\\begin{tabular}{r|lll}\n",
       "  & fit & lwr & upr\\\\\n",
       "\\hline\n",
       "\t1 & 29.80359 & 29.00741 & 30.59978\\\\\n",
       "\t2 & 25.05335 & 24.47413 & 25.63256\\\\\n",
       "\t3 & 20.30310 & 19.73159 & 20.87461\\\\\n",
       "\\end{tabular}\n"
      ],
      "text/markdown": [
       "\n",
       "| <!--/--> | fit | lwr | upr | \n",
       "|---|---|---|\n",
       "| 1 | 29.80359 | 29.00741 | 30.59978 | \n",
       "| 2 | 25.05335 | 24.47413 | 25.63256 | \n",
       "| 3 | 20.30310 | 19.73159 | 20.87461 | \n",
       "\n",
       "\n"
      ],
      "text/plain": [
       "  fit      lwr      upr     \n",
       "1 29.80359 29.00741 30.59978\n",
       "2 25.05335 24.47413 25.63256\n",
       "3 20.30310 19.73159 20.87461"
      ]
     },
     "metadata": {},
     "output_type": "display_data"
    }
   ],
   "source": [
    "# 根据给定的lstat值预测medv值,置信区间\n",
    "predict(simple.lm, data.frame(lstat = c(5, 10, 15)), interval = 'confidence')"
   ]
  },
  {
   "cell_type": "code",
   "execution_count": 80,
   "metadata": {},
   "outputs": [
    {
     "data": {
      "text/html": [
       "<table>\n",
       "<thead><tr><th></th><th scope=col>fit</th><th scope=col>lwr</th><th scope=col>upr</th></tr></thead>\n",
       "<tbody>\n",
       "\t<tr><th scope=row>1</th><td>29.80359 </td><td>17.565675</td><td>42.04151 </td></tr>\n",
       "\t<tr><th scope=row>2</th><td>25.05335 </td><td>12.827626</td><td>37.27907 </td></tr>\n",
       "\t<tr><th scope=row>3</th><td>20.30310 </td><td> 8.077742</td><td>32.52846 </td></tr>\n",
       "</tbody>\n",
       "</table>\n"
      ],
      "text/latex": [
       "\\begin{tabular}{r|lll}\n",
       "  & fit & lwr & upr\\\\\n",
       "\\hline\n",
       "\t1 & 29.80359  & 17.565675 & 42.04151 \\\\\n",
       "\t2 & 25.05335  & 12.827626 & 37.27907 \\\\\n",
       "\t3 & 20.30310  &  8.077742 & 32.52846 \\\\\n",
       "\\end{tabular}\n"
      ],
      "text/markdown": [
       "\n",
       "| <!--/--> | fit | lwr | upr | \n",
       "|---|---|---|\n",
       "| 1 | 29.80359  | 17.565675 | 42.04151  | \n",
       "| 2 | 25.05335  | 12.827626 | 37.27907  | \n",
       "| 3 | 20.30310  |  8.077742 | 32.52846  | \n",
       "\n",
       "\n"
      ],
      "text/plain": [
       "  fit      lwr       upr     \n",
       "1 29.80359 17.565675 42.04151\n",
       "2 25.05335 12.827626 37.27907\n",
       "3 20.30310  8.077742 32.52846"
      ]
     },
     "metadata": {},
     "output_type": "display_data"
    }
   ],
   "source": [
    "# 根据给定的lstat值预测medv值,预测区间\n",
    "predict(simple.lm, data.frame(lstat = c(5, 10, 15)), interval = 'prediction')"
   ]
  },
  {
   "cell_type": "code",
   "execution_count": 81,
   "metadata": {},
   "outputs": [
    {
     "data": {
      "image/png": "[encoded data removed]",
      "text/plain": [
       "plot without title"
      ]
     },
     "metadata": {},
     "output_type": "display_data"
    }
   ],
   "source": [
    "# 散点图和最小二乘回归线\n",
    "plot(Boston$lstat, Boston$medv)\n",
    "abline(simple.lm, lwd = 3, col = 'red')"
   ]
  },
  {
   "cell_type": "markdown",
   "metadata": {},
   "source": [
    "##### 使用ggplot2绘图"
   ]
  },
  {
   "cell_type": "code",
   "execution_count": 49,
   "metadata": {},
   "outputs": [
    {
     "data": {},
     "metadata": {},
     "output_type": "display_data"
    },
    {
     "data": {
      "image/png": "[encoded data removed]",
      "text/plain": [
       "plot without title"
      ]
     },
     "metadata": {},
     "output_type": "display_data"
    }
   ],
   "source": [
    "Boston %>% \n",
    "  ggplot(aes(lstat, medv)) +\n",
    "  geom_point() +\n",
    "  geom_smooth(method = 'lm')"
   ]
  },
  {
   "cell_type": "markdown",
   "metadata": {},
   "source": [
    "##### 计算残差并绘制散点图"
   ]
  },
  {
   "cell_type": "code",
   "execution_count": 82,
   "metadata": {},
   "outputs": [
    {
     "name": "stderr",
     "output_type": "stream",
     "text": [
      "`geom_smooth()` using method = 'loess'\n"
     ]
    },
    {
     "data": {},
     "metadata": {},
     "output_type": "display_data"
    },
    {
     "name": "stderr",
     "output_type": "stream",
     "text": [
      "`geom_smooth()` using method = 'loess'\n"
     ]
    },
    {
     "data": {},
     "metadata": {},
     "output_type": "display_data"
    },
    {
     "data": {
      "image/png": "[encoded data removed]",
      "text/plain": [
       "plot without title"
      ]
     },
     "metadata": {},
     "output_type": "display_data"
    },
    {
     "data": {
      "image/png": "[encoded data removed]",
      "text/plain": [
       "plot without title"
      ]
     },
     "metadata": {},
     "output_type": "display_data"
    }
   ],
   "source": [
    "# 残差图\n",
    "ggplot(NULL, aes(predict(simple.lm), residuals(simple.lm))) +\n",
    "  geom_point() +\n",
    "  geom_smooth() +\n",
    "  labs(x = 'predicted value', y = 'residuals')\n",
    "# 学生化残差图\n",
    "ggplot(NULL, aes(predict(simple.lm), rstudent(simple.lm))) +\n",
    "  geom_point() +\n",
    "  geom_smooth() +\n",
    "  labs(x = 'predicted value', y = 'studentized residuals')"
   ]
  },
  {
   "cell_type": "code",
   "execution_count": 83,
   "metadata": {},
   "outputs": [
    {
     "data": {
      "image/png": "[encoded data removed]",
      "text/plain": [
       "Plot with title \"\""
      ]
     },
     "metadata": {},
     "output_type": "display_data"
    }
   ],
   "source": [
    "# 模型拟合图汇总\n",
    "par(mfrow = c(2, 2))\n",
    "plot(simple.lm)"
   ]
  },
  {
   "cell_type": "code",
   "execution_count": 84,
   "metadata": {},
   "outputs": [
    {
     "name": "stdout",
     "output_type": "stream",
     "text": [
      "最大杠杆统计量索引: 375"
     ]
    },
    {
     "data": {
      "image/png": "[encoded data removed]",
      "text/plain": [
       "plot without title"
      ]
     },
     "metadata": {},
     "output_type": "display_data"
    }
   ],
   "source": [
    "# 杠杆统计量值\n",
    "plot(hatvalues(simple.lm))\n",
    "cat('最大杠杆统计量索引:', which.max(hatvalues(simple.lm)))"
   ]
  },
  {
   "cell_type": "markdown",
   "metadata": {},
   "source": [
    "#### 多元线性回归"
   ]
  },
  {
   "cell_type": "code",
   "execution_count": 73,
   "metadata": {},
   "outputs": [
    {
     "data": {
      "text/plain": [
       "\n",
       "Call:\n",
       "lm(formula = medv ~ ., data = Boston)\n",
       "\n",
       "Residuals:\n",
       "    Min      1Q  Median      3Q     Max \n",
       "-15.595  -2.730  -0.518   1.777  26.199 \n",
       "\n",
       "Coefficients:\n",
       "              Estimate Std. Error t value Pr(>|t|)    \n",
       "(Intercept)  3.646e+01  5.103e+00   7.144 3.28e-12 ***\n",
       "crim        -1.080e-01  3.286e-02  -3.287 0.001087 ** \n",
       "zn           4.642e-02  1.373e-02   3.382 0.000778 ***\n",
       "indus        2.056e-02  6.150e-02   0.334 0.738288    \n",
       "chas         2.687e+00  8.616e-01   3.118 0.001925 ** \n",
       "nox         -1.777e+01  3.820e+00  -4.651 4.25e-06 ***\n",
       "rm           3.810e+00  4.179e-01   9.116  < 2e-16 ***\n",
       "age          6.922e-04  1.321e-02   0.052 0.958229    \n",
       "dis         -1.476e+00  1.995e-01  -7.398 6.01e-13 ***\n",
       "rad          3.060e-01  6.635e-02   4.613 5.07e-06 ***\n",
       "tax         -1.233e-02  3.760e-03  -3.280 0.001112 ** \n",
       "ptratio     -9.527e-01  1.308e-01  -7.283 1.31e-12 ***\n",
       "black        9.312e-03  2.686e-03   3.467 0.000573 ***\n",
       "lstat       -5.248e-01  5.072e-02 -10.347  < 2e-16 ***\n",
       "---\n",
       "Signif. codes:  0 '***' 0.001 '**' 0.01 '*' 0.05 '.' 0.1 ' ' 1\n",
       "\n",
       "Residual standard error: 4.745 on 492 degrees of freedom\n",
       "Multiple R-squared:  0.7406,\tAdjusted R-squared:  0.7338 \n",
       "F-statistic: 108.1 on 13 and 492 DF,  p-value: < 2.2e-16\n"
      ]
     },
     "metadata": {},
     "output_type": "display_data"
    }
   ],
   "source": [
    "mult.lm <- lm(medv ~ ., data = Boston)\n",
    "mult.fit <- summary(mult.lm)\n",
    "mult.fit"
   ]
  },
  {
   "cell_type": "code",
   "execution_count": 86,
   "metadata": {},
   "outputs": [
    {
     "data": {
      "text/html": [
       "<ol class=list-inline>\n",
       "\t<li>'call'</li>\n",
       "\t<li>'terms'</li>\n",
       "\t<li>'residuals'</li>\n",
       "\t<li>'coefficients'</li>\n",
       "\t<li>'aliased'</li>\n",
       "\t<li>'sigma'</li>\n",
       "\t<li>'df'</li>\n",
       "\t<li>'r.squared'</li>\n",
       "\t<li>'adj.r.squared'</li>\n",
       "\t<li>'fstatistic'</li>\n",
       "\t<li>'cov.unscaled'</li>\n",
       "</ol>\n"
      ],
      "text/latex": [
       "\\begin{enumerate*}\n",
       "\\item 'call'\n",
       "\\item 'terms'\n",
       "\\item 'residuals'\n",
       "\\item 'coefficients'\n",
       "\\item 'aliased'\n",
       "\\item 'sigma'\n",
       "\\item 'df'\n",
       "\\item 'r.squared'\n",
       "\\item 'adj.r.squared'\n",
       "\\item 'fstatistic'\n",
       "\\item 'cov.unscaled'\n",
       "\\end{enumerate*}\n"
      ],
      "text/markdown": [
       "1. 'call'\n",
       "2. 'terms'\n",
       "3. 'residuals'\n",
       "4. 'coefficients'\n",
       "5. 'aliased'\n",
       "6. 'sigma'\n",
       "7. 'df'\n",
       "8. 'r.squared'\n",
       "9. 'adj.r.squared'\n",
       "10. 'fstatistic'\n",
       "11. 'cov.unscaled'\n",
       "\n",
       "\n"
      ],
      "text/plain": [
       " [1] \"call\"          \"terms\"         \"residuals\"     \"coefficients\" \n",
       " [5] \"aliased\"       \"sigma\"         \"df\"            \"r.squared\"    \n",
       " [9] \"adj.r.squared\" \"fstatistic\"    \"cov.unscaled\" "
      ]
     },
     "metadata": {},
     "output_type": "display_data"
    }
   ],
   "source": [
    "names(mult.fit)"
   ]
  },
  {
   "cell_type": "code",
   "execution_count": 88,
   "metadata": {},
   "outputs": [
    {
     "data": {
      "text/html": [
       "<dl class=dl-horizontal>\n",
       "\t<dt>crim</dt>\n",
       "\t\t<dd>1.79219154743324</dd>\n",
       "\t<dt>zn</dt>\n",
       "\t\t<dd>2.29875817874944</dd>\n",
       "\t<dt>indus</dt>\n",
       "\t\t<dd>3.99159641834602</dd>\n",
       "\t<dt>chas</dt>\n",
       "\t\t<dd>1.07399532755379</dd>\n",
       "\t<dt>nox</dt>\n",
       "\t\t<dd>4.39371984757748</dd>\n",
       "\t<dt>rm</dt>\n",
       "\t\t<dd>1.93374443578326</dd>\n",
       "\t<dt>age</dt>\n",
       "\t\t<dd>3.10082551281533</dd>\n",
       "\t<dt>dis</dt>\n",
       "\t\t<dd>3.95594490637272</dd>\n",
       "\t<dt>rad</dt>\n",
       "\t\t<dd>7.48449633527445</dd>\n",
       "\t<dt>tax</dt>\n",
       "\t\t<dd>9.00855394759706</dd>\n",
       "\t<dt>ptratio</dt>\n",
       "\t\t<dd>1.79908404924889</dd>\n",
       "\t<dt>black</dt>\n",
       "\t\t<dd>1.34852107640637</dd>\n",
       "\t<dt>lstat</dt>\n",
       "\t\t<dd>2.94149107809193</dd>\n",
       "</dl>\n"
      ],
      "text/latex": [
       "\\begin{description*}\n",
       "\\item[crim] 1.79219154743324\n",
       "\\item[zn] 2.29875817874944\n",
       "\\item[indus] 3.99159641834602\n",
       "\\item[chas] 1.07399532755379\n",
       "\\item[nox] 4.39371984757748\n",
       "\\item[rm] 1.93374443578326\n",
       "\\item[age] 3.10082551281533\n",
       "\\item[dis] 3.95594490637272\n",
       "\\item[rad] 7.48449633527445\n",
       "\\item[tax] 9.00855394759706\n",
       "\\item[ptratio] 1.79908404924889\n",
       "\\item[black] 1.34852107640637\n",
       "\\item[lstat] 2.94149107809193\n",
       "\\end{description*}\n"
      ],
      "text/markdown": [
       "crim\n",
       ":   1.79219154743324zn\n",
       ":   2.29875817874944indus\n",
       ":   3.99159641834602chas\n",
       ":   1.07399532755379nox\n",
       ":   4.39371984757748rm\n",
       ":   1.93374443578326age\n",
       ":   3.10082551281533dis\n",
       ":   3.95594490637272rad\n",
       ":   7.48449633527445tax\n",
       ":   9.00855394759706ptratio\n",
       ":   1.79908404924889black\n",
       ":   1.34852107640637lstat\n",
       ":   2.94149107809193\n",
       "\n"
      ],
      "text/plain": [
       "    crim       zn    indus     chas      nox       rm      age      dis \n",
       "1.792192 2.298758 3.991596 1.073995 4.393720 1.933744 3.100826 3.955945 \n",
       "     rad      tax  ptratio    black    lstat \n",
       "7.484496 9.008554 1.799084 1.348521 2.941491 "
      ]
     },
     "metadata": {},
     "output_type": "display_data"
    }
   ],
   "source": [
    "# 计算方差膨胀因子\n",
    "car::vif(mult.lm)"
   ]
  },
  {
   "cell_type": "markdown",
   "metadata": {},
   "source": [
    "##### 去除age变量后回归"
   ]
  },
  {
   "cell_type": "code",
   "execution_count": 89,
   "metadata": {},
   "outputs": [
    {
     "data": {
      "text/plain": [
       "\n",
       "Call:\n",
       "lm(formula = medv ~ . - age, data = Boston)\n",
       "\n",
       "Residuals:\n",
       "     Min       1Q   Median       3Q      Max \n",
       "-15.6054  -2.7313  -0.5188   1.7601  26.2243 \n",
       "\n",
       "Coefficients:\n",
       "              Estimate Std. Error t value Pr(>|t|)    \n",
       "(Intercept)  36.436927   5.080119   7.172 2.72e-12 ***\n",
       "crim         -0.108006   0.032832  -3.290 0.001075 ** \n",
       "zn            0.046334   0.013613   3.404 0.000719 ***\n",
       "indus         0.020562   0.061433   0.335 0.737989    \n",
       "chas          2.689026   0.859598   3.128 0.001863 ** \n",
       "nox         -17.713540   3.679308  -4.814 1.97e-06 ***\n",
       "rm            3.814394   0.408480   9.338  < 2e-16 ***\n",
       "dis          -1.478612   0.190611  -7.757 5.03e-14 ***\n",
       "rad           0.305786   0.066089   4.627 4.75e-06 ***\n",
       "tax          -0.012329   0.003755  -3.283 0.001099 ** \n",
       "ptratio      -0.952211   0.130294  -7.308 1.10e-12 ***\n",
       "black         0.009321   0.002678   3.481 0.000544 ***\n",
       "lstat        -0.523852   0.047625 -10.999  < 2e-16 ***\n",
       "---\n",
       "Signif. codes:  0 '***' 0.001 '**' 0.01 '*' 0.05 '.' 0.1 ' ' 1\n",
       "\n",
       "Residual standard error: 4.74 on 493 degrees of freedom\n",
       "Multiple R-squared:  0.7406,\tAdjusted R-squared:  0.7343 \n",
       "F-statistic: 117.3 on 12 and 493 DF,  p-value: < 2.2e-16\n"
      ]
     },
     "metadata": {},
     "output_type": "display_data"
    }
   ],
   "source": [
    "mult.lm2 <- lm(medv ~ . -age, data = Boston)\n",
    "(mult.fit2 <- summary(mult.lm2))"
   ]
  },
  {
   "cell_type": "code",
   "execution_count": 90,
   "metadata": {},
   "outputs": [
    {
     "data": {
      "text/plain": [
       "\n",
       "Call:\n",
       "lm(formula = medv ~ crim + zn + indus + chas + nox + rm + dis + \n",
       "    rad + tax + ptratio + black + lstat, data = Boston)\n",
       "\n",
       "Residuals:\n",
       "     Min       1Q   Median       3Q      Max \n",
       "-15.6054  -2.7313  -0.5188   1.7601  26.2243 \n",
       "\n",
       "Coefficients:\n",
       "              Estimate Std. Error t value Pr(>|t|)    \n",
       "(Intercept)  36.436927   5.080119   7.172 2.72e-12 ***\n",
       "crim         -0.108006   0.032832  -3.290 0.001075 ** \n",
       "zn            0.046334   0.013613   3.404 0.000719 ***\n",
       "indus         0.020562   0.061433   0.335 0.737989    \n",
       "chas          2.689026   0.859598   3.128 0.001863 ** \n",
       "nox         -17.713540   3.679308  -4.814 1.97e-06 ***\n",
       "rm            3.814394   0.408480   9.338  < 2e-16 ***\n",
       "dis          -1.478612   0.190611  -7.757 5.03e-14 ***\n",
       "rad           0.305786   0.066089   4.627 4.75e-06 ***\n",
       "tax          -0.012329   0.003755  -3.283 0.001099 ** \n",
       "ptratio      -0.952211   0.130294  -7.308 1.10e-12 ***\n",
       "black         0.009321   0.002678   3.481 0.000544 ***\n",
       "lstat        -0.523852   0.047625 -10.999  < 2e-16 ***\n",
       "---\n",
       "Signif. codes:  0 '***' 0.001 '**' 0.01 '*' 0.05 '.' 0.1 ' ' 1\n",
       "\n",
       "Residual standard error: 4.74 on 493 degrees of freedom\n",
       "Multiple R-squared:  0.7406,\tAdjusted R-squared:  0.7343 \n",
       "F-statistic: 117.3 on 12 and 493 DF,  p-value: < 2.2e-16\n"
      ]
     },
     "metadata": {},
     "output_type": "display_data"
    }
   ],
   "source": [
    "# 或者等价于\n",
    "mult.lm22 <- update(mult.lm, ~.-age)\n",
    "summary(mult.lm22)"
   ]
  },
  {
   "cell_type": "markdown",
   "metadata": {},
   "source": [
    "#### 交互项\n",
    "lstat:age表示将两者交互项加入方程，lstat*age表示将lstat，age和交互项加入方程。以下等价：\n",
    "``` r\n",
    "lm(medv ~ lstat * age, data = Boston)\n",
    "lm(medv ~ lstat + age + lstat : age, data = Boston\n",
    "```"
   ]
  },
  {
   "cell_type": "markdown",
   "metadata": {},
   "source": [
    "#### 预测变量非线性变换\n",
    "建立平方项：$I(X^2)$"
   ]
  },
  {
   "cell_type": "code",
   "execution_count": 102,
   "metadata": {},
   "outputs": [
    {
     "data": {
      "text/plain": [
       "\n",
       "Call:\n",
       "lm(formula = medv ~ lstat + I(lstat^2), data = Boston)\n",
       "\n",
       "Residuals:\n",
       "     Min       1Q   Median       3Q      Max \n",
       "-15.2834  -3.8313  -0.5295   2.3095  25.4148 \n",
       "\n",
       "Coefficients:\n",
       "             Estimate Std. Error t value Pr(>|t|)    \n",
       "(Intercept) 42.862007   0.872084   49.15   <2e-16 ***\n",
       "lstat       -2.332821   0.123803  -18.84   <2e-16 ***\n",
       "I(lstat^2)   0.043547   0.003745   11.63   <2e-16 ***\n",
       "---\n",
       "Signif. codes:  0 '***' 0.001 '**' 0.01 '*' 0.05 '.' 0.1 ' ' 1\n",
       "\n",
       "Residual standard error: 5.524 on 503 degrees of freedom\n",
       "Multiple R-squared:  0.6407,\tAdjusted R-squared:  0.6393 \n",
       "F-statistic: 448.5 on 2 and 503 DF,  p-value: < 2.2e-16\n"
      ]
     },
     "metadata": {},
     "output_type": "display_data"
    }
   ],
   "source": [
    "fit2 <- lm(medv ~ lstat + I(lstat ^ 2), data = Boston)\n",
    "fit2 %>% summary"
   ]
  },
  {
   "cell_type": "markdown",
   "metadata": {},
   "source": [
    "##### 比较两模型"
   ]
  },
  {
   "cell_type": "code",
   "execution_count": 103,
   "metadata": {},
   "outputs": [
    {
     "data": {
      "text/html": [
       "<table>\n",
       "<thead><tr><th scope=col>Res.Df</th><th scope=col>RSS</th><th scope=col>Df</th><th scope=col>Sum of Sq</th><th scope=col>F</th><th scope=col>Pr(&gt;F)</th></tr></thead>\n",
       "<tbody>\n",
       "\t<tr><td>504         </td><td>19472.38    </td><td>NA          </td><td>      NA    </td><td>      NA    </td><td>          NA</td></tr>\n",
       "\t<tr><td>503         </td><td>15347.24    </td><td> 1          </td><td>4125.138    </td><td>135.1998    </td><td>7.630116e-28</td></tr>\n",
       "</tbody>\n",
       "</table>\n"
      ],
      "text/latex": [
       "\\begin{tabular}{r|llllll}\n",
       " Res.Df & RSS & Df & Sum of Sq & F & Pr(>F)\\\\\n",
       "\\hline\n",
       "\t 504          & 19472.38     & NA           &       NA     &       NA     &           NA\\\\\n",
       "\t 503          & 15347.24     &  1           & 4125.138     & 135.1998     & 7.630116e-28\\\\\n",
       "\\end{tabular}\n"
      ],
      "text/markdown": [
       "\n",
       "Res.Df | RSS | Df | Sum of Sq | F | Pr(>F) | \n",
       "|---|---|\n",
       "| 504          | 19472.38     | NA           |       NA     |       NA     |           NA | \n",
       "| 503          | 15347.24     |  1           | 4125.138     | 135.1998     | 7.630116e-28 | \n",
       "\n",
       "\n"
      ],
      "text/plain": [
       "  Res.Df RSS      Df Sum of Sq F        Pr(>F)      \n",
       "1 504    19472.38 NA       NA        NA           NA\n",
       "2 503    15347.24  1 4125.138  135.1998 7.630116e-28"
      ]
     },
     "metadata": {},
     "output_type": "display_data"
    }
   ],
   "source": [
    "anova(lm(medv ~ lstat, data = Boston), fit2)"
   ]
  },
  {
   "cell_type": "markdown",
   "metadata": {},
   "source": [
    "绘制残差图，残差规律很少"
   ]
  },
  {
   "cell_type": "code",
   "execution_count": 105,
   "metadata": {},
   "outputs": [
    {
     "data": {
      "image/png": "[encoded data removed]",
      "text/plain": [
       "Plot with title \"\""
      ]
     },
     "metadata": {},
     "output_type": "display_data"
    }
   ],
   "source": [
    "par(mfrow = c(2, 2))\n",
    "plot(fit2)"
   ]
  },
  {
   "cell_type": "markdown",
   "metadata": {},
   "source": [
    "#### 定性预测变量"
   ]
  },
  {
   "cell_type": "markdown",
   "metadata": {},
   "source": [
    "##### Carseats数据集\n",
    "预测400个地区的Sales（儿童座椅销量），Shelveloc（每个地区搁架位置的质量指标），为分类的定性变量。"
   ]
  },
  {
   "cell_type": "code",
   "execution_count": 108,
   "metadata": {},
   "outputs": [
    {
     "data": {
      "text/html": [
       "<table>\n",
       "<thead><tr><th scope=col>Sales</th><th scope=col>CompPrice</th><th scope=col>Income</th><th scope=col>Advertising</th><th scope=col>Population</th><th scope=col>Price</th><th scope=col>ShelveLoc</th><th scope=col>Age</th><th scope=col>Education</th><th scope=col>Urban</th><th scope=col>US</th></tr></thead>\n",
       "<tbody>\n",
       "\t<tr><td> 9.50 </td><td>138   </td><td> 73   </td><td>11    </td><td>276   </td><td>120   </td><td>Bad   </td><td>42    </td><td>17    </td><td>Yes   </td><td>Yes   </td></tr>\n",
       "\t<tr><td>11.22 </td><td>111   </td><td> 48   </td><td>16    </td><td>260   </td><td> 83   </td><td>Good  </td><td>65    </td><td>10    </td><td>Yes   </td><td>Yes   </td></tr>\n",
       "\t<tr><td>10.06 </td><td>113   </td><td> 35   </td><td>10    </td><td>269   </td><td> 80   </td><td>Medium</td><td>59    </td><td>12    </td><td>Yes   </td><td>Yes   </td></tr>\n",
       "\t<tr><td> 7.40 </td><td>117   </td><td>100   </td><td> 4    </td><td>466   </td><td> 97   </td><td>Medium</td><td>55    </td><td>14    </td><td>Yes   </td><td>Yes   </td></tr>\n",
       "\t<tr><td> 4.15 </td><td>141   </td><td> 64   </td><td> 3    </td><td>340   </td><td>128   </td><td>Bad   </td><td>38    </td><td>13    </td><td>Yes   </td><td>No    </td></tr>\n",
       "\t<tr><td>10.81 </td><td>124   </td><td>113   </td><td>13    </td><td>501   </td><td> 72   </td><td>Bad   </td><td>78    </td><td>16    </td><td>No    </td><td>Yes   </td></tr>\n",
       "</tbody>\n",
       "</table>\n"
      ],
      "text/latex": [
       "\\begin{tabular}{r|lllllllllll}\n",
       " Sales & CompPrice & Income & Advertising & Population & Price & ShelveLoc & Age & Education & Urban & US\\\\\n",
       "\\hline\n",
       "\t  9.50  & 138    &  73    & 11     & 276    & 120    & Bad    & 42     & 17     & Yes    & Yes   \\\\\n",
       "\t 11.22  & 111    &  48    & 16     & 260    &  83    & Good   & 65     & 10     & Yes    & Yes   \\\\\n",
       "\t 10.06  & 113    &  35    & 10     & 269    &  80    & Medium & 59     & 12     & Yes    & Yes   \\\\\n",
       "\t  7.40  & 117    & 100    &  4     & 466    &  97    & Medium & 55     & 14     & Yes    & Yes   \\\\\n",
       "\t  4.15  & 141    &  64    &  3     & 340    & 128    & Bad    & 38     & 13     & Yes    & No    \\\\\n",
       "\t 10.81  & 124    & 113    & 13     & 501    &  72    & Bad    & 78     & 16     & No     & Yes   \\\\\n",
       "\\end{tabular}\n"
      ],
      "text/markdown": [
       "\n",
       "Sales | CompPrice | Income | Advertising | Population | Price | ShelveLoc | Age | Education | Urban | US | \n",
       "|---|---|---|---|---|---|\n",
       "|  9.50  | 138    |  73    | 11     | 276    | 120    | Bad    | 42     | 17     | Yes    | Yes    | \n",
       "| 11.22  | 111    |  48    | 16     | 260    |  83    | Good   | 65     | 10     | Yes    | Yes    | \n",
       "| 10.06  | 113    |  35    | 10     | 269    |  80    | Medium | 59     | 12     | Yes    | Yes    | \n",
       "|  7.40  | 117    | 100    |  4     | 466    |  97    | Medium | 55     | 14     | Yes    | Yes    | \n",
       "|  4.15  | 141    |  64    |  3     | 340    | 128    | Bad    | 38     | 13     | Yes    | No     | \n",
       "| 10.81  | 124    | 113    | 13     | 501    |  72    | Bad    | 78     | 16     | No     | Yes    | \n",
       "\n",
       "\n"
      ],
      "text/plain": [
       "  Sales CompPrice Income Advertising Population Price ShelveLoc Age Education\n",
       "1  9.50 138        73    11          276        120   Bad       42  17       \n",
       "2 11.22 111        48    16          260         83   Good      65  10       \n",
       "3 10.06 113        35    10          269         80   Medium    59  12       \n",
       "4  7.40 117       100     4          466         97   Medium    55  14       \n",
       "5  4.15 141        64     3          340        128   Bad       38  13       \n",
       "6 10.81 124       113    13          501         72   Bad       78  16       \n",
       "  Urban US \n",
       "1 Yes   Yes\n",
       "2 Yes   Yes\n",
       "3 Yes   Yes\n",
       "4 Yes   Yes\n",
       "5 Yes   No \n",
       "6 No    Yes"
      ]
     },
     "metadata": {},
     "output_type": "display_data"
    }
   ],
   "source": [
    "Carseats <- ISLR::Carseats\n",
    "head(Carseats)"
   ]
  },
  {
   "cell_type": "code",
   "execution_count": 109,
   "metadata": {},
   "outputs": [
    {
     "data": {
      "text/html": [
       "<table>\n",
       "<thead><tr><th></th><th scope=col>Good</th><th scope=col>Medium</th></tr></thead>\n",
       "<tbody>\n",
       "\t<tr><th scope=row>Bad</th><td>0</td><td>0</td></tr>\n",
       "\t<tr><th scope=row>Good</th><td>1</td><td>0</td></tr>\n",
       "\t<tr><th scope=row>Medium</th><td>0</td><td>1</td></tr>\n",
       "</tbody>\n",
       "</table>\n"
      ],
      "text/latex": [
       "\\begin{tabular}{r|ll}\n",
       "  & Good & Medium\\\\\n",
       "\\hline\n",
       "\tBad & 0 & 0\\\\\n",
       "\tGood & 1 & 0\\\\\n",
       "\tMedium & 0 & 1\\\\\n",
       "\\end{tabular}\n"
      ],
      "text/markdown": [
       "\n",
       "| <!--/--> | Good | Medium | \n",
       "|---|---|---|\n",
       "| Bad | 0 | 0 | \n",
       "| Good | 1 | 0 | \n",
       "| Medium | 0 | 1 | \n",
       "\n",
       "\n"
      ],
      "text/plain": [
       "       Good Medium\n",
       "Bad    0    0     \n",
       "Good   1    0     \n",
       "Medium 0    1     "
      ]
     },
     "metadata": {},
     "output_type": "display_data"
    }
   ],
   "source": [
    "# 编码规则\n",
    "contrasts(Carseats$ShelveLoc)"
   ]
  },
  {
   "cell_type": "code",
   "execution_count": 110,
   "metadata": {},
   "outputs": [
    {
     "data": {
      "text/plain": [
       "\n",
       "Call:\n",
       "lm(formula = Sales ~ . + Income:Advertising + Price:Age, data = Carseats)\n",
       "\n",
       "Residuals:\n",
       "    Min      1Q  Median      3Q     Max \n",
       "-2.9208 -0.7503  0.0177  0.6754  3.3413 \n",
       "\n",
       "Coefficients:\n",
       "                     Estimate Std. Error t value Pr(>|t|)    \n",
       "(Intercept)         6.5755654  1.0087470   6.519 2.22e-10 ***\n",
       "CompPrice           0.0929371  0.0041183  22.567  < 2e-16 ***\n",
       "Income              0.0108940  0.0026044   4.183 3.57e-05 ***\n",
       "Advertising         0.0702462  0.0226091   3.107 0.002030 ** \n",
       "Population          0.0001592  0.0003679   0.433 0.665330    \n",
       "Price              -0.1008064  0.0074399 -13.549  < 2e-16 ***\n",
       "ShelveLocGood       4.8486762  0.1528378  31.724  < 2e-16 ***\n",
       "ShelveLocMedium     1.9532620  0.1257682  15.531  < 2e-16 ***\n",
       "Age                -0.0579466  0.0159506  -3.633 0.000318 ***\n",
       "Education          -0.0208525  0.0196131  -1.063 0.288361    \n",
       "UrbanYes            0.1401597  0.1124019   1.247 0.213171    \n",
       "USYes              -0.1575571  0.1489234  -1.058 0.290729    \n",
       "Income:Advertising  0.0007510  0.0002784   2.698 0.007290 ** \n",
       "Price:Age           0.0001068  0.0001333   0.801 0.423812    \n",
       "---\n",
       "Signif. codes:  0 '***' 0.001 '**' 0.01 '*' 0.05 '.' 0.1 ' ' 1\n",
       "\n",
       "Residual standard error: 1.011 on 386 degrees of freedom\n",
       "Multiple R-squared:  0.8761,\tAdjusted R-squared:  0.8719 \n",
       "F-statistic:   210 on 13 and 386 DF,  p-value: < 2.2e-16\n"
      ]
     },
     "metadata": {},
     "output_type": "display_data"
    }
   ],
   "source": [
    "# 拟合交互项模型\n",
    "lm(Sales ~ . + Income : Advertising + Price : Age, data = Carseats) %>% summary"
   ]
  },
  {
   "cell_type": "markdown",
   "metadata": {},
   "source": [
    "## 3.7 习题"
   ]
  },
  {
   "cell_type": "markdown",
   "metadata": {},
   "source": [
    "#### 第10题"
   ]
  },
  {
   "cell_type": "code",
   "execution_count": 113,
   "metadata": {},
   "outputs": [
    {
     "data": {
      "text/plain": [
       "\n",
       "Call:\n",
       "lm(formula = Sales ~ Population + Urban + US, data = Carseats)\n",
       "\n",
       "Residuals:\n",
       "    Min      1Q  Median      3Q     Max \n",
       "-7.3323 -1.9844 -0.0824  1.8783  8.4053 \n",
       "\n",
       "Coefficients:\n",
       "              Estimate Std. Error t value Pr(>|t|)    \n",
       "(Intercept)  6.7262086  0.4009409  16.776  < 2e-16 ***\n",
       "Population   0.0007415  0.0009499   0.781 0.435475    \n",
       "UrbanYes    -0.1341034  0.3063701  -0.438 0.661830    \n",
       "USYes        1.0360741  0.2921241   3.547 0.000437 ***\n",
       "---\n",
       "Signif. codes:  0 '***' 0.001 '**' 0.01 '*' 0.05 '.' 0.1 ' ' 1\n",
       "\n",
       "Residual standard error: 2.787 on 396 degrees of freedom\n",
       "Multiple R-squared:  0.03342,\tAdjusted R-squared:  0.02609 \n",
       "F-statistic: 4.563 on 3 and 396 DF,  p-value: 0.003713\n"
      ]
     },
     "metadata": {},
     "output_type": "display_data"
    }
   ],
   "source": [
    "# 使用Population，Urban和US对Sales进行估计\n",
    "lm(Sales ~ Population + Urban + US, data = Carseats) %>% summary"
   ]
  },
  {
   "cell_type": "markdown",
   "metadata": {},
   "source": [
    "把模型写成方程形式：\n",
    "6.726 + 0.007415*Population {- 0.1341034 if Urban} {+ 1.0261 if US}"
   ]
  },
  {
   "cell_type": "code",
   "execution_count": 114,
   "metadata": {},
   "outputs": [
    {
     "data": {
      "text/plain": [
       "\n",
       "Call:\n",
       "lm(formula = Sales ~ US, data = Carseats)\n",
       "\n",
       "Residuals:\n",
       "   Min     1Q Median     3Q    Max \n",
       "-7.497 -1.929 -0.105  1.836  8.403 \n",
       "\n",
       "Coefficients:\n",
       "            Estimate Std. Error t value Pr(>|t|)    \n",
       "(Intercept)   6.8230     0.2335   29.21  < 2e-16 ***\n",
       "USYes         1.0439     0.2908    3.59 0.000372 ***\n",
       "---\n",
       "Signif. codes:  0 '***' 0.001 '**' 0.01 '*' 0.05 '.' 0.1 ' ' 1\n",
       "\n",
       "Residual standard error: 2.783 on 398 degrees of freedom\n",
       "Multiple R-squared:  0.03136,\tAdjusted R-squared:  0.02893 \n",
       "F-statistic: 12.89 on 1 and 398 DF,  p-value: 0.0003723\n"
      ]
     },
     "metadata": {},
     "output_type": "display_data"
    }
   ],
   "source": [
    "# 简化模型\n",
    "ex10.fit <- lm(Sales ~ US, data = Carseats)\n",
    "ex10.fit %>% summary"
   ]
  },
  {
   "cell_type": "code",
   "execution_count": 115,
   "metadata": {},
   "outputs": [
    {
     "data": {
      "image/png": "[encoded data removed]",
      "text/plain": [
       "Plot with title \"\""
      ]
     },
     "metadata": {},
     "output_type": "display_data"
    }
   ],
   "source": [
    "par(mfrow = c(2, 2))\n",
    "plot(ex10.fit)"
   ]
  },
  {
   "cell_type": "markdown",
   "metadata": {},
   "source": [
    "#### 第11题"
   ]
  },
  {
   "cell_type": "code",
   "execution_count": 116,
   "metadata": {
    "collapsed": true
   },
   "outputs": [],
   "source": [
    "# 生成模拟数据\n",
    "set.seed(1)\n",
    "x <- rnorm(100)\n",
    "y <- 2 * x + rnorm(100)"
   ]
  },
  {
   "cell_type": "code",
   "execution_count": 117,
   "metadata": {},
   "outputs": [
    {
     "data": {},
     "metadata": {},
     "output_type": "display_data"
    },
    {
     "data": {
      "image/png": "[encoded data removed]",
      "text/plain": [
       "plot without title"
      ]
     },
     "metadata": {},
     "output_type": "display_data"
    }
   ],
   "source": [
    "ggplot(NULL, aes(x, y)) + geom_point()"
   ]
  },
  {
   "cell_type": "markdown",
   "metadata": {},
   "source": [
    "##### 建立不含截距的简单线性模型"
   ]
  },
  {
   "cell_type": "code",
   "execution_count": 118,
   "metadata": {},
   "outputs": [
    {
     "data": {
      "text/plain": [
       "\n",
       "Call:\n",
       "lm(formula = y ~ x + 0)\n",
       "\n",
       "Residuals:\n",
       "    Min      1Q  Median      3Q     Max \n",
       "-1.9154 -0.6472 -0.1771  0.5056  2.3109 \n",
       "\n",
       "Coefficients:\n",
       "  Estimate Std. Error t value Pr(>|t|)    \n",
       "x   1.9939     0.1065   18.73   <2e-16 ***\n",
       "---\n",
       "Signif. codes:  0 '***' 0.001 '**' 0.01 '*' 0.05 '.' 0.1 ' ' 1\n",
       "\n",
       "Residual standard error: 0.9586 on 99 degrees of freedom\n",
       "Multiple R-squared:  0.7798,\tAdjusted R-squared:  0.7776 \n",
       "F-statistic: 350.7 on 1 and 99 DF,  p-value: < 2.2e-16\n"
      ]
     },
     "metadata": {},
     "output_type": "display_data"
    }
   ],
   "source": [
    "ex11.lm <- lm(y ~ x + 0)\n",
    "summary(ex11.lm)"
   ]
  },
  {
   "cell_type": "markdown",
   "metadata": {},
   "source": [
    "##### 将拟合直线添加到散点图"
   ]
  },
  {
   "cell_type": "code",
   "execution_count": 125,
   "metadata": {},
   "outputs": [
    {
     "data": {},
     "metadata": {},
     "output_type": "display_data"
    },
    {
     "data": {
      "image/png": "[encoded data removed]",
      "text/plain": [
       "plot without title"
      ]
     },
     "metadata": {},
     "output_type": "display_data"
    }
   ],
   "source": [
    "ggplot(NULL, aes(x, y)) + geom_point() + geom_abline(slope = 1.9939, intercept = 0)"
   ]
  },
  {
   "cell_type": "markdown",
   "metadata": {},
   "source": [
    "##### 建立x对y的无截距模型"
   ]
  },
  {
   "cell_type": "code",
   "execution_count": 128,
   "metadata": {},
   "outputs": [
    {
     "data": {
      "text/plain": [
       "\n",
       "Call:\n",
       "lm(formula = x ~ y + 0)\n",
       "\n",
       "Residuals:\n",
       "    Min      1Q  Median      3Q     Max \n",
       "-0.8699 -0.2368  0.1030  0.2858  0.8938 \n",
       "\n",
       "Coefficients:\n",
       "  Estimate Std. Error t value Pr(>|t|)    \n",
       "y  0.39111    0.02089   18.73   <2e-16 ***\n",
       "---\n",
       "Signif. codes:  0 '***' 0.001 '**' 0.01 '*' 0.05 '.' 0.1 ' ' 1\n",
       "\n",
       "Residual standard error: 0.4246 on 99 degrees of freedom\n",
       "Multiple R-squared:  0.7798,\tAdjusted R-squared:  0.7776 \n",
       "F-statistic: 350.7 on 1 and 99 DF,  p-value: < 2.2e-16\n"
      ]
     },
     "metadata": {},
     "output_type": "display_data"
    }
   ],
   "source": [
    "lm(x ~ y + 0) %>% summary"
   ]
  },
  {
   "cell_type": "markdown",
   "metadata": {},
   "source": [
    "两个模型t统计量相等，对于有截距模型，两者的t统计量依旧相等"
   ]
  },
  {
   "cell_type": "code",
   "execution_count": 129,
   "metadata": {
    "collapsed": true
   },
   "outputs": [],
   "source": [
    "ex11.fit1 <- lm(y ~ x)\n",
    "ex11.fit2 <- lm(x ~ y)"
   ]
  },
  {
   "cell_type": "code",
   "execution_count": 138,
   "metadata": {},
   "outputs": [
    {
     "data": {
      "text/html": [
       "<table>\n",
       "<thead><tr><th></th><th scope=col>Estimate</th><th scope=col>Std. Error</th><th scope=col>t value</th><th scope=col>Pr(&gt;|t|)</th></tr></thead>\n",
       "<tbody>\n",
       "\t<tr><th scope=row>(Intercept)</th><td>-0.03769261 </td><td>0.09698729  </td><td>-0.3886346  </td><td>6.983896e-01</td></tr>\n",
       "\t<tr><th scope=row>x</th><td> 1.99893961 </td><td>0.10772703  </td><td>18.5555993  </td><td>7.723851e-34</td></tr>\n",
       "</tbody>\n",
       "</table>\n"
      ],
      "text/latex": [
       "\\begin{tabular}{r|llll}\n",
       "  & Estimate & Std. Error & t value & Pr(>\\textbar{}t\\textbar{})\\\\\n",
       "\\hline\n",
       "\t(Intercept) & -0.03769261  & 0.09698729   & -0.3886346   & 6.983896e-01\\\\\n",
       "\tx &  1.99893961  & 0.10772703   & 18.5555993   & 7.723851e-34\\\\\n",
       "\\end{tabular}\n"
      ],
      "text/markdown": [
       "\n",
       "| <!--/--> | Estimate | Std. Error | t value | Pr(>|t|) | \n",
       "|---|---|\n",
       "| (Intercept) | -0.03769261  | 0.09698729   | -0.3886346   | 6.983896e-01 | \n",
       "| x |  1.99893961  | 0.10772703   | 18.5555993   | 7.723851e-34 | \n",
       "\n",
       "\n"
      ],
      "text/plain": [
       "            Estimate    Std. Error t value    Pr(>|t|)    \n",
       "(Intercept) -0.03769261 0.09698729 -0.3886346 6.983896e-01\n",
       "x            1.99893961 0.10772703 18.5555993 7.723851e-34"
      ]
     },
     "metadata": {},
     "output_type": "display_data"
    }
   ],
   "source": [
    "summary(ex11.fit1)$coefficients"
   ]
  },
  {
   "cell_type": "code",
   "execution_count": 139,
   "metadata": {},
   "outputs": [
    {
     "data": {
      "text/html": [
       "<table>\n",
       "<thead><tr><th></th><th scope=col>Estimate</th><th scope=col>Std. Error</th><th scope=col>t value</th><th scope=col>Pr(&gt;|t|)</th></tr></thead>\n",
       "<tbody>\n",
       "\t<tr><th scope=row>(Intercept)</th><td>0.03880394  </td><td>0.04266144  </td><td> 0.9095787  </td><td>3.652764e-01</td></tr>\n",
       "\t<tr><th scope=row>y</th><td>0.38942451  </td><td>0.02098690  </td><td>18.5555993  </td><td>7.723851e-34</td></tr>\n",
       "</tbody>\n",
       "</table>\n"
      ],
      "text/latex": [
       "\\begin{tabular}{r|llll}\n",
       "  & Estimate & Std. Error & t value & Pr(>\\textbar{}t\\textbar{})\\\\\n",
       "\\hline\n",
       "\t(Intercept) & 0.03880394   & 0.04266144   &  0.9095787   & 3.652764e-01\\\\\n",
       "\ty & 0.38942451   & 0.02098690   & 18.5555993   & 7.723851e-34\\\\\n",
       "\\end{tabular}\n"
      ],
      "text/markdown": [
       "\n",
       "| <!--/--> | Estimate | Std. Error | t value | Pr(>|t|) | \n",
       "|---|---|\n",
       "| (Intercept) | 0.03880394   | 0.04266144   |  0.9095787   | 3.652764e-01 | \n",
       "| y | 0.38942451   | 0.02098690   | 18.5555993   | 7.723851e-34 | \n",
       "\n",
       "\n"
      ],
      "text/plain": [
       "            Estimate   Std. Error t value    Pr(>|t|)    \n",
       "(Intercept) 0.03880394 0.04266144  0.9095787 3.652764e-01\n",
       "y           0.38942451 0.02098690 18.5555993 7.723851e-34"
      ]
     },
     "metadata": {},
     "output_type": "display_data"
    }
   ],
   "source": [
    "summary(ex11.fit2)$coefficients"
   ]
  },
  {
   "cell_type": "markdown",
   "metadata": {},
   "source": [
    "### 习题好多啊，未完待续。。。"
   ]
  }
 ],
 "metadata": {
  "kernelspec": {
   "display_name": "R",
   "language": "R",
   "name": "ir"
  },
  "language_info": {
   "codemirror_mode": "r",
   "file_extension": ".r",
   "mimetype": "text/x-r-source",
   "name": "R",
   "pygments_lexer": "r",
   "version": "3.4.1"
  }
 },
 "nbformat": 4,
 "nbformat_minor": 2
}
